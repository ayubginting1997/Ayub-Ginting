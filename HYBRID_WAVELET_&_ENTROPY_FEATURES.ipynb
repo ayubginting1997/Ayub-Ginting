{
  "cells": [
    {
      "cell_type": "code",
      "source": [
        "from google.colab import drive\n",
        "drive.mount('/content/drive')"
      ],
      "metadata": {
        "colab": {
          "base_uri": "https://localhost:8080/"
        },
        "id": "xLpyqB09dk8i",
        "outputId": "cfebb043-c5b3-42d5-bb49-9ce326b0c3b8"
      },
      "execution_count": 4,
      "outputs": [
        {
          "output_type": "stream",
          "name": "stdout",
          "text": [
            "Mounted at /content/drive\n"
          ]
        }
      ]
    },
    {
      "cell_type": "code",
      "source": [
        "ls \"/content/drive/MyDrive/DATASET\""
      ],
      "metadata": {
        "colab": {
          "base_uri": "https://localhost:8080/"
        },
        "id": "LFcCayhzdyFj",
        "outputId": "04ad70a9-1b3b-402f-94a4-227d315a06e7"
      },
      "execution_count": 5,
      "outputs": [
        {
          "output_type": "stream",
          "name": "stdout",
          "text": [
            " DATASET_ADAMALIK.csv  \u001b[0m\u001b[01;34m'DATA TEST'\u001b[0m/   \u001b[01;34mFITUR\u001b[0m/  \u001b[01;34m'Pengukuran Darah'\u001b[0m/\n"
          ]
        }
      ]
    },
    {
      "cell_type": "markdown",
      "source": [
        "#PENGUKURAN PENGGUNAAN SMARTPHONE\n"
      ],
      "metadata": {
        "id": "iNDekq4Z5lWP"
      }
    },
    {
      "cell_type": "code",
      "metadata": {
        "id": "dapsnU-X576x"
      },
      "source": [
        "import cv2\n",
        "import numpy as np\n",
        "from scipy import signal\n",
        "import os\n",
        "import shutil\n",
        "\n",
        "overall_results = []\n",
        "\n",
        "def HeartRateFinger(Video_Path):\n",
        "    os.makedirs(\"frames\")  #make a directory called frames to save the images in\n",
        "    vidcap = cv2.VideoCapture(Video_Path)  #the directory path to the video of interest\n",
        "    images = []\n",
        "\n",
        "    #take in images and get indidvual frames\n",
        "    def getFrame(sec):\n",
        "        vidcap.set(cv2.CAP_PROP_POS_MSEC, sec * 1000)  #VideoCaptureProperties to capture \n",
        "        hasFrames, image = vidcap.read()\n",
        "        if hasFrames:\n",
        "            cv2.imwrite(\"frames/image\" + str(count) + \".jpg\", image)  # save frame as JPG file\n",
        "        images.append(\"frames/image\" + str(count) + \".jpg\")\n",
        "        return hasFrames\n",
        "\n",
        "    #set up frame rate\n",
        "    sec = 0\n",
        "    frameRate = 0.05  #capture frame each 0.05 seconds --> (1 second) / .05 = 20 seconds 20 fps\n",
        "    count = 1\n",
        "    success = getFrame(sec)  #success tracker\n",
        "    while (success):\n",
        "        count = count + 1\n",
        "        sec = sec + frameRate\n",
        "        sec = round(sec, 2)\n",
        "        success = getFrame(sec)\n",
        "\n",
        "    #Get the channels from images and Find the average of RED channel for each frame\n",
        "    pixels_averages = []\n",
        "    for i in range(len(images) - 1):\n",
        "        bgr_image = cv2.imread(images[i])\n",
        "        blue_channel, green_channel, red_channel = cv2.split(bgr_image)  #splits into the 3 color channels (RGB)\n",
        "        average = np.mean(red_channel)  #mean of all the red channels  is the sum all pixels in channel and divide by number of pixels\n",
        "        pixels_averages.append(average)  #add this average to all the other frames array\n",
        "    pixels_averages = np.divide(np.array(pixels_averages), 255)  #normalize our averages between 0-1\n",
        "\n",
        "    #Clean and filter data (butterworth filter)\n",
        "    sos = signal.butter(4, 1, 'hp', fs=20, output='sos')  # setting up signal.butter(kind of frequency,framerate, name of method)\n",
        "    filtered = signal.sosfilt(sos, pixels_averages) #Applying filter\n",
        "\n",
        "    # truncate wonky data from  beginning of series\n",
        "    filtered = filtered[40:]\n",
        "\n",
        "    #Perform FFT to find frequency of max amplitude\n",
        "    Sample_rate = 20  #same as the frame rate is the sampling rate\n",
        "    BW = Sample_rate / 2  #bandwidth (range of frequency) in signal processing\n",
        "    fft = np.absolute(np.fft.fft(filtered))\n",
        "    frames_len = len(filtered)\n",
        "    frequancies = np.arange(0, BW, Sample_rate / frames_len)\n",
        "    fft = fft[0:len(frequancies)]\n",
        "\n",
        "    #Convert back to BPM from hz\n",
        "    heartrate = np.round(frequancies[np.argmax(fft)] * 60)  #take the highest peak frequency and multiply by 60 and round it\n",
        "    shutil.rmtree(\"frames\")  #remove folder made to keep the directory clean\n",
        "    overall_results.append(heartrate)\n",
        "    return heartrate"
      ],
      "execution_count": null,
      "outputs": []
    },
    {
      "cell_type": "code",
      "metadata": {
        "id": "BB4LBTyE5760",
        "colab": {
          "base_uri": "https://localhost:8080/"
        },
        "outputId": "677bf0ef-3d11-417e-cdc8-29b9ed80391f"
      },
      "source": [
        "#script expected outcome while Resting is 74-78 BPM\n",
        "path = \"95.MOV\"\n",
        "my_heart_rate = HeartRateFinger(path)\n",
        "print(\"Your Heart rate is : {} bpm\".format(my_heart_rate))"
      ],
      "execution_count": null,
      "outputs": [
        {
          "output_type": "stream",
          "name": "stdout",
          "text": [
            "Your Heart rate is : 77.0 bpm\n"
          ]
        }
      ]
    },
    {
      "cell_type": "code",
      "metadata": {
        "id": "Ts1IDgvw5760",
        "colab": {
          "base_uri": "https://localhost:8080/"
        },
        "outputId": "054a43e6-bbc4-450f-c990-794c7d28ad52"
      },
      "source": [
        "#script expected outcome while Resting is 69-77 BPM\n",
        "path = \"resting1.mp4\"\n",
        "my_heart_rate = HeartRateFinger(path)\n",
        "print(\"Your Heart rate is : {} bpm\".format(my_heart_rate))"
      ],
      "execution_count": null,
      "outputs": [
        {
          "output_type": "stream",
          "name": "stdout",
          "text": [
            "Your Heart rate is : 70.0 bpm\n"
          ]
        }
      ]
    },
    {
      "cell_type": "code",
      "metadata": {
        "id": "7vRIOW5F5761",
        "colab": {
          "base_uri": "https://localhost:8080/"
        },
        "outputId": "48f5ebe9-e577-4397-8b6b-add454ca59ad"
      },
      "source": [
        "#script expected outcome while Resting is 69-77 BPM\n",
        "path = \"RESTING2.mp4\"\n",
        "my_heart_rate = HeartRateFinger(path)\n",
        "print(\"Your Heart rate is : {} bpm\".format(my_heart_rate))"
      ],
      "execution_count": null,
      "outputs": [
        {
          "output_type": "stream",
          "name": "stdout",
          "text": [
            "Your Heart rate is : 70.0 bpm\n"
          ]
        }
      ]
    },
    {
      "cell_type": "code",
      "metadata": {
        "id": "MpzXTHBT5761",
        "colab": {
          "base_uri": "https://localhost:8080/"
        },
        "outputId": "39978707-00ab-4a27-9439-39e921ac9e57"
      },
      "source": [
        "#script expected outcome after activity was 83-88 BPM (50 jumping jacks)\n",
        "path = \"active1.mp4\"\n",
        "my_heart_rate = HeartRateFinger(path)\n",
        "print(\"Your Heart rate is : {} bpm\".format(my_heart_rate))"
      ],
      "execution_count": null,
      "outputs": [
        {
          "output_type": "stream",
          "name": "stdout",
          "text": [
            "Your Heart rate is : 85.0 bpm\n"
          ]
        }
      ]
    },
    {
      "cell_type": "code",
      "metadata": {
        "id": "ZtS9-hmQ5761",
        "colab": {
          "base_uri": "https://localhost:8080/"
        },
        "outputId": "bfc23198-58c9-46f6-be01-623483058869"
      },
      "source": [
        "#script expected outcome after activity was 75-85 BPM (jogging for a bit)\n",
        "path =  \"active2.mp4\"\n",
        "my_heart_rate = HeartRateFinger(path)\n",
        "print(\"Your Heart rate is : {} bpm\".format(my_heart_rate))"
      ],
      "execution_count": null,
      "outputs": [
        {
          "output_type": "stream",
          "name": "stdout",
          "text": [
            "Your Heart rate is : 75.0 bpm\n"
          ]
        }
      ]
    },
    {
      "cell_type": "code",
      "metadata": {
        "id": "gd8wqhvj5762",
        "colab": {
          "base_uri": "https://localhost:8080/"
        },
        "outputId": "bc71e830-5f15-4827-a9d2-20b1d468f1aa"
      },
      "source": [
        "#Overall results laid out with their error rate as well\n",
        "print(overall_results)\n"
      ],
      "execution_count": null,
      "outputs": [
        {
          "output_type": "stream",
          "name": "stdout",
          "text": [
            "[77.0, 70.0, 70.0, 85.0, 75.0]\n"
          ]
        }
      ]
    },
    {
      "cell_type": "markdown",
      "metadata": {
        "id": "Tx3ZrBH9J4mQ"
      },
      "source": [
        "# DATASET PASIEN *RSUP HAJI ADAM MALIK MEDAN\n"
      ]
    },
    {
      "cell_type": "code",
      "execution_count": 6,
      "metadata": {
        "id": "342b6186-dffb-4fce-afcd-61bfa4e29c2a"
      },
      "outputs": [],
      "source": [
        "import pandas as pd\n",
        "import matplotlib.pyplot as plt\n",
        "import numpy as np\n",
        "import pywt"
      ]
    },
    {
      "cell_type": "code",
      "execution_count": 7,
      "metadata": {
        "id": "bcd2a1a4-8084-4d45-b172-dc1f6e03fab3"
      },
      "outputs": [],
      "source": [
        "datas = pd.read_excel(\"/content/drive/MyDrive/DATASET/Pengukuran Darah/DATASET_ADAMALIK.xlsx\")"
      ]
    },
    {
      "cell_type": "code",
      "execution_count": 8,
      "metadata": {
        "id": "990d21ad-73eb-42bc-ba88-a639bf63f639",
        "colab": {
          "base_uri": "https://localhost:8080/",
          "height": 0
        },
        "outputId": "c4cc42cb-5dc8-4d2b-b77a-70df134e5be2"
      },
      "outputs": [
        {
          "output_type": "execute_result",
          "data": {
            "text/plain": [
              "    No Nama Sample Jenis Kelamin  Umur Tekanan Darah (TD)  \\\n",
              "0  1.0       M.Hut     Perempuan  62.0             122/66   \n",
              "1  2.0       D.Gin    Laki- Laki  43.0           103/10.8   \n",
              "2  3.0         SAH     Perempuan  60.0             105/71   \n",
              "3  4.0       M.SYA    Laki- Laki  31.0              97/74   \n",
              "4  5.0       A SIB    Laki- Laki  55.0             103/80   \n",
              "\n",
              "   Respiration Rate(RR)  Heart Rate(HR)  Saturasi Oksigen(SpO2)  \n",
              "0                  36.0           132.0                    0.83  \n",
              "1                  14.0           145.0                    0.98  \n",
              "2                  20.0           110.0                    0.98  \n",
              "3                  32.0            97.0                    0.99  \n",
              "4                  28.0            71.0                    0.97  "
            ],
            "text/html": [
              "\n",
              "  <div id=\"df-3906dcd7-0949-4280-b2ff-ee18b4801ae8\">\n",
              "    <div class=\"colab-df-container\">\n",
              "      <div>\n",
              "<style scoped>\n",
              "    .dataframe tbody tr th:only-of-type {\n",
              "        vertical-align: middle;\n",
              "    }\n",
              "\n",
              "    .dataframe tbody tr th {\n",
              "        vertical-align: top;\n",
              "    }\n",
              "\n",
              "    .dataframe thead th {\n",
              "        text-align: right;\n",
              "    }\n",
              "</style>\n",
              "<table border=\"1\" class=\"dataframe\">\n",
              "  <thead>\n",
              "    <tr style=\"text-align: right;\">\n",
              "      <th></th>\n",
              "      <th>No</th>\n",
              "      <th>Nama Sample</th>\n",
              "      <th>Jenis Kelamin</th>\n",
              "      <th>Umur</th>\n",
              "      <th>Tekanan Darah (TD)</th>\n",
              "      <th>Respiration Rate(RR)</th>\n",
              "      <th>Heart Rate(HR)</th>\n",
              "      <th>Saturasi Oksigen(SpO2)</th>\n",
              "    </tr>\n",
              "  </thead>\n",
              "  <tbody>\n",
              "    <tr>\n",
              "      <th>0</th>\n",
              "      <td>1.0</td>\n",
              "      <td>M.Hut</td>\n",
              "      <td>Perempuan</td>\n",
              "      <td>62.0</td>\n",
              "      <td>122/66</td>\n",
              "      <td>36.0</td>\n",
              "      <td>132.0</td>\n",
              "      <td>0.83</td>\n",
              "    </tr>\n",
              "    <tr>\n",
              "      <th>1</th>\n",
              "      <td>2.0</td>\n",
              "      <td>D.Gin</td>\n",
              "      <td>Laki- Laki</td>\n",
              "      <td>43.0</td>\n",
              "      <td>103/10.8</td>\n",
              "      <td>14.0</td>\n",
              "      <td>145.0</td>\n",
              "      <td>0.98</td>\n",
              "    </tr>\n",
              "    <tr>\n",
              "      <th>2</th>\n",
              "      <td>3.0</td>\n",
              "      <td>SAH</td>\n",
              "      <td>Perempuan</td>\n",
              "      <td>60.0</td>\n",
              "      <td>105/71</td>\n",
              "      <td>20.0</td>\n",
              "      <td>110.0</td>\n",
              "      <td>0.98</td>\n",
              "    </tr>\n",
              "    <tr>\n",
              "      <th>3</th>\n",
              "      <td>4.0</td>\n",
              "      <td>M.SYA</td>\n",
              "      <td>Laki- Laki</td>\n",
              "      <td>31.0</td>\n",
              "      <td>97/74</td>\n",
              "      <td>32.0</td>\n",
              "      <td>97.0</td>\n",
              "      <td>0.99</td>\n",
              "    </tr>\n",
              "    <tr>\n",
              "      <th>4</th>\n",
              "      <td>5.0</td>\n",
              "      <td>A SIB</td>\n",
              "      <td>Laki- Laki</td>\n",
              "      <td>55.0</td>\n",
              "      <td>103/80</td>\n",
              "      <td>28.0</td>\n",
              "      <td>71.0</td>\n",
              "      <td>0.97</td>\n",
              "    </tr>\n",
              "  </tbody>\n",
              "</table>\n",
              "</div>\n",
              "      <button class=\"colab-df-convert\" onclick=\"convertToInteractive('df-3906dcd7-0949-4280-b2ff-ee18b4801ae8')\"\n",
              "              title=\"Convert this dataframe to an interactive table.\"\n",
              "              style=\"display:none;\">\n",
              "        \n",
              "  <svg xmlns=\"http://www.w3.org/2000/svg\" height=\"24px\"viewBox=\"0 0 24 24\"\n",
              "       width=\"24px\">\n",
              "    <path d=\"M0 0h24v24H0V0z\" fill=\"none\"/>\n",
              "    <path d=\"M18.56 5.44l.94 2.06.94-2.06 2.06-.94-2.06-.94-.94-2.06-.94 2.06-2.06.94zm-11 1L8.5 8.5l.94-2.06 2.06-.94-2.06-.94L8.5 2.5l-.94 2.06-2.06.94zm10 10l.94 2.06.94-2.06 2.06-.94-2.06-.94-.94-2.06-.94 2.06-2.06.94z\"/><path d=\"M17.41 7.96l-1.37-1.37c-.4-.4-.92-.59-1.43-.59-.52 0-1.04.2-1.43.59L10.3 9.45l-7.72 7.72c-.78.78-.78 2.05 0 2.83L4 21.41c.39.39.9.59 1.41.59.51 0 1.02-.2 1.41-.59l7.78-7.78 2.81-2.81c.8-.78.8-2.07 0-2.86zM5.41 20L4 18.59l7.72-7.72 1.47 1.35L5.41 20z\"/>\n",
              "  </svg>\n",
              "      </button>\n",
              "      \n",
              "  <style>\n",
              "    .colab-df-container {\n",
              "      display:flex;\n",
              "      flex-wrap:wrap;\n",
              "      gap: 12px;\n",
              "    }\n",
              "\n",
              "    .colab-df-convert {\n",
              "      background-color: #E8F0FE;\n",
              "      border: none;\n",
              "      border-radius: 50%;\n",
              "      cursor: pointer;\n",
              "      display: none;\n",
              "      fill: #1967D2;\n",
              "      height: 32px;\n",
              "      padding: 0 0 0 0;\n",
              "      width: 32px;\n",
              "    }\n",
              "\n",
              "    .colab-df-convert:hover {\n",
              "      background-color: #E2EBFA;\n",
              "      box-shadow: 0px 1px 2px rgba(60, 64, 67, 0.3), 0px 1px 3px 1px rgba(60, 64, 67, 0.15);\n",
              "      fill: #174EA6;\n",
              "    }\n",
              "\n",
              "    [theme=dark] .colab-df-convert {\n",
              "      background-color: #3B4455;\n",
              "      fill: #D2E3FC;\n",
              "    }\n",
              "\n",
              "    [theme=dark] .colab-df-convert:hover {\n",
              "      background-color: #434B5C;\n",
              "      box-shadow: 0px 1px 3px 1px rgba(0, 0, 0, 0.15);\n",
              "      filter: drop-shadow(0px 1px 2px rgba(0, 0, 0, 0.3));\n",
              "      fill: #FFFFFF;\n",
              "    }\n",
              "  </style>\n",
              "\n",
              "      <script>\n",
              "        const buttonEl =\n",
              "          document.querySelector('#df-3906dcd7-0949-4280-b2ff-ee18b4801ae8 button.colab-df-convert');\n",
              "        buttonEl.style.display =\n",
              "          google.colab.kernel.accessAllowed ? 'block' : 'none';\n",
              "\n",
              "        async function convertToInteractive(key) {\n",
              "          const element = document.querySelector('#df-3906dcd7-0949-4280-b2ff-ee18b4801ae8');\n",
              "          const dataTable =\n",
              "            await google.colab.kernel.invokeFunction('convertToInteractive',\n",
              "                                                     [key], {});\n",
              "          if (!dataTable) return;\n",
              "\n",
              "          const docLinkHtml = 'Like what you see? Visit the ' +\n",
              "            '<a target=\"_blank\" href=https://colab.research.google.com/notebooks/data_table.ipynb>data table notebook</a>'\n",
              "            + ' to learn more about interactive tables.';\n",
              "          element.innerHTML = '';\n",
              "          dataTable['output_type'] = 'display_data';\n",
              "          await google.colab.output.renderOutput(dataTable, element);\n",
              "          const docLink = document.createElement('div');\n",
              "          docLink.innerHTML = docLinkHtml;\n",
              "          element.appendChild(docLink);\n",
              "        }\n",
              "      </script>\n",
              "    </div>\n",
              "  </div>\n",
              "  "
            ]
          },
          "metadata": {},
          "execution_count": 8
        }
      ],
      "source": [
        "datas.head()"
      ]
    },
    {
      "cell_type": "code",
      "execution_count": 9,
      "metadata": {
        "id": "869a4b74-995c-442d-ac6a-e091022645d6"
      },
      "outputs": [],
      "source": [
        "#df1 = datas[datas.columns[5:8]] #Irisan pertama\n",
        "df1 = datas[datas.columns[5:8]]"
      ]
    },
    {
      "cell_type": "code",
      "execution_count": 10,
      "metadata": {
        "id": "45048be1-cab7-4cdb-b894-82b13fdb21ce",
        "colab": {
          "base_uri": "https://localhost:8080/",
          "height": 0
        },
        "outputId": "b343887c-b767-44d2-a0d7-f7278b67bee7"
      },
      "outputs": [
        {
          "output_type": "execute_result",
          "data": {
            "text/plain": [
              "   Respiration Rate(RR)  Heart Rate(HR)  Saturasi Oksigen(SpO2)\n",
              "0                  36.0           132.0                    0.83\n",
              "1                  14.0           145.0                    0.98\n",
              "2                  20.0           110.0                    0.98\n",
              "3                  32.0            97.0                    0.99\n",
              "4                  28.0            71.0                    0.97"
            ],
            "text/html": [
              "\n",
              "  <div id=\"df-85f4d206-9a3f-4482-8778-66189862d987\">\n",
              "    <div class=\"colab-df-container\">\n",
              "      <div>\n",
              "<style scoped>\n",
              "    .dataframe tbody tr th:only-of-type {\n",
              "        vertical-align: middle;\n",
              "    }\n",
              "\n",
              "    .dataframe tbody tr th {\n",
              "        vertical-align: top;\n",
              "    }\n",
              "\n",
              "    .dataframe thead th {\n",
              "        text-align: right;\n",
              "    }\n",
              "</style>\n",
              "<table border=\"1\" class=\"dataframe\">\n",
              "  <thead>\n",
              "    <tr style=\"text-align: right;\">\n",
              "      <th></th>\n",
              "      <th>Respiration Rate(RR)</th>\n",
              "      <th>Heart Rate(HR)</th>\n",
              "      <th>Saturasi Oksigen(SpO2)</th>\n",
              "    </tr>\n",
              "  </thead>\n",
              "  <tbody>\n",
              "    <tr>\n",
              "      <th>0</th>\n",
              "      <td>36.0</td>\n",
              "      <td>132.0</td>\n",
              "      <td>0.83</td>\n",
              "    </tr>\n",
              "    <tr>\n",
              "      <th>1</th>\n",
              "      <td>14.0</td>\n",
              "      <td>145.0</td>\n",
              "      <td>0.98</td>\n",
              "    </tr>\n",
              "    <tr>\n",
              "      <th>2</th>\n",
              "      <td>20.0</td>\n",
              "      <td>110.0</td>\n",
              "      <td>0.98</td>\n",
              "    </tr>\n",
              "    <tr>\n",
              "      <th>3</th>\n",
              "      <td>32.0</td>\n",
              "      <td>97.0</td>\n",
              "      <td>0.99</td>\n",
              "    </tr>\n",
              "    <tr>\n",
              "      <th>4</th>\n",
              "      <td>28.0</td>\n",
              "      <td>71.0</td>\n",
              "      <td>0.97</td>\n",
              "    </tr>\n",
              "  </tbody>\n",
              "</table>\n",
              "</div>\n",
              "      <button class=\"colab-df-convert\" onclick=\"convertToInteractive('df-85f4d206-9a3f-4482-8778-66189862d987')\"\n",
              "              title=\"Convert this dataframe to an interactive table.\"\n",
              "              style=\"display:none;\">\n",
              "        \n",
              "  <svg xmlns=\"http://www.w3.org/2000/svg\" height=\"24px\"viewBox=\"0 0 24 24\"\n",
              "       width=\"24px\">\n",
              "    <path d=\"M0 0h24v24H0V0z\" fill=\"none\"/>\n",
              "    <path d=\"M18.56 5.44l.94 2.06.94-2.06 2.06-.94-2.06-.94-.94-2.06-.94 2.06-2.06.94zm-11 1L8.5 8.5l.94-2.06 2.06-.94-2.06-.94L8.5 2.5l-.94 2.06-2.06.94zm10 10l.94 2.06.94-2.06 2.06-.94-2.06-.94-.94-2.06-.94 2.06-2.06.94z\"/><path d=\"M17.41 7.96l-1.37-1.37c-.4-.4-.92-.59-1.43-.59-.52 0-1.04.2-1.43.59L10.3 9.45l-7.72 7.72c-.78.78-.78 2.05 0 2.83L4 21.41c.39.39.9.59 1.41.59.51 0 1.02-.2 1.41-.59l7.78-7.78 2.81-2.81c.8-.78.8-2.07 0-2.86zM5.41 20L4 18.59l7.72-7.72 1.47 1.35L5.41 20z\"/>\n",
              "  </svg>\n",
              "      </button>\n",
              "      \n",
              "  <style>\n",
              "    .colab-df-container {\n",
              "      display:flex;\n",
              "      flex-wrap:wrap;\n",
              "      gap: 12px;\n",
              "    }\n",
              "\n",
              "    .colab-df-convert {\n",
              "      background-color: #E8F0FE;\n",
              "      border: none;\n",
              "      border-radius: 50%;\n",
              "      cursor: pointer;\n",
              "      display: none;\n",
              "      fill: #1967D2;\n",
              "      height: 32px;\n",
              "      padding: 0 0 0 0;\n",
              "      width: 32px;\n",
              "    }\n",
              "\n",
              "    .colab-df-convert:hover {\n",
              "      background-color: #E2EBFA;\n",
              "      box-shadow: 0px 1px 2px rgba(60, 64, 67, 0.3), 0px 1px 3px 1px rgba(60, 64, 67, 0.15);\n",
              "      fill: #174EA6;\n",
              "    }\n",
              "\n",
              "    [theme=dark] .colab-df-convert {\n",
              "      background-color: #3B4455;\n",
              "      fill: #D2E3FC;\n",
              "    }\n",
              "\n",
              "    [theme=dark] .colab-df-convert:hover {\n",
              "      background-color: #434B5C;\n",
              "      box-shadow: 0px 1px 3px 1px rgba(0, 0, 0, 0.15);\n",
              "      filter: drop-shadow(0px 1px 2px rgba(0, 0, 0, 0.3));\n",
              "      fill: #FFFFFF;\n",
              "    }\n",
              "  </style>\n",
              "\n",
              "      <script>\n",
              "        const buttonEl =\n",
              "          document.querySelector('#df-85f4d206-9a3f-4482-8778-66189862d987 button.colab-df-convert');\n",
              "        buttonEl.style.display =\n",
              "          google.colab.kernel.accessAllowed ? 'block' : 'none';\n",
              "\n",
              "        async function convertToInteractive(key) {\n",
              "          const element = document.querySelector('#df-85f4d206-9a3f-4482-8778-66189862d987');\n",
              "          const dataTable =\n",
              "            await google.colab.kernel.invokeFunction('convertToInteractive',\n",
              "                                                     [key], {});\n",
              "          if (!dataTable) return;\n",
              "\n",
              "          const docLinkHtml = 'Like what you see? Visit the ' +\n",
              "            '<a target=\"_blank\" href=https://colab.research.google.com/notebooks/data_table.ipynb>data table notebook</a>'\n",
              "            + ' to learn more about interactive tables.';\n",
              "          element.innerHTML = '';\n",
              "          dataTable['output_type'] = 'display_data';\n",
              "          await google.colab.output.renderOutput(dataTable, element);\n",
              "          const docLink = document.createElement('div');\n",
              "          docLink.innerHTML = docLinkHtml;\n",
              "          element.appendChild(docLink);\n",
              "        }\n",
              "      </script>\n",
              "    </div>\n",
              "  </div>\n",
              "  "
            ]
          },
          "metadata": {},
          "execution_count": 10
        }
      ],
      "source": [
        "df1.head()"
      ]
    },
    {
      "cell_type": "markdown",
      "source": [
        "Konversi Ke dataset PPG\n"
      ],
      "metadata": {
        "id": "Z23SpoyVx-AP"
      }
    },
    {
      "cell_type": "code",
      "source": [
        "datas = pd.read_excel(\"/content/drive/MyDrive/DATASET/Pengukuran Darah/bidmc_53_Signals.xlsx\")"
      ],
      "metadata": {
        "id": "H-k5Fs4pyAC1"
      },
      "execution_count": 11,
      "outputs": []
    },
    {
      "cell_type": "code",
      "source": [
        "datas.head()"
      ],
      "metadata": {
        "id": "U9LyeWCIyLZa",
        "colab": {
          "base_uri": "https://localhost:8080/",
          "height": 0
        },
        "outputId": "d8402faf-3387-4ccb-ded6-15ae1ee8a033"
      },
      "execution_count": 12,
      "outputs": [
        {
          "output_type": "execute_result",
          "data": {
            "text/plain": [
              "   Time [s]     RESP       II        V      AVR   PLETH\n",
              "0     0.000  0.28390  0.19990  0.59531  0.54985  1.3060\n",
              "1     0.008  0.27339  0.26002  0.58016  0.53519  1.2903\n",
              "2     0.016  0.26313  0.31476  0.54008  0.50000  1.2747\n",
              "3     0.024  0.25214  0.32991  0.50000  0.47019  1.2590\n",
              "4     0.032  0.24139  0.36510  0.45992  0.45992  1.2444"
            ],
            "text/html": [
              "\n",
              "  <div id=\"df-4ee5277c-8ea9-4d65-b9ff-cea76082f411\">\n",
              "    <div class=\"colab-df-container\">\n",
              "      <div>\n",
              "<style scoped>\n",
              "    .dataframe tbody tr th:only-of-type {\n",
              "        vertical-align: middle;\n",
              "    }\n",
              "\n",
              "    .dataframe tbody tr th {\n",
              "        vertical-align: top;\n",
              "    }\n",
              "\n",
              "    .dataframe thead th {\n",
              "        text-align: right;\n",
              "    }\n",
              "</style>\n",
              "<table border=\"1\" class=\"dataframe\">\n",
              "  <thead>\n",
              "    <tr style=\"text-align: right;\">\n",
              "      <th></th>\n",
              "      <th>Time [s]</th>\n",
              "      <th>RESP</th>\n",
              "      <th>II</th>\n",
              "      <th>V</th>\n",
              "      <th>AVR</th>\n",
              "      <th>PLETH</th>\n",
              "    </tr>\n",
              "  </thead>\n",
              "  <tbody>\n",
              "    <tr>\n",
              "      <th>0</th>\n",
              "      <td>0.000</td>\n",
              "      <td>0.28390</td>\n",
              "      <td>0.19990</td>\n",
              "      <td>0.59531</td>\n",
              "      <td>0.54985</td>\n",
              "      <td>1.3060</td>\n",
              "    </tr>\n",
              "    <tr>\n",
              "      <th>1</th>\n",
              "      <td>0.008</td>\n",
              "      <td>0.27339</td>\n",
              "      <td>0.26002</td>\n",
              "      <td>0.58016</td>\n",
              "      <td>0.53519</td>\n",
              "      <td>1.2903</td>\n",
              "    </tr>\n",
              "    <tr>\n",
              "      <th>2</th>\n",
              "      <td>0.016</td>\n",
              "      <td>0.26313</td>\n",
              "      <td>0.31476</td>\n",
              "      <td>0.54008</td>\n",
              "      <td>0.50000</td>\n",
              "      <td>1.2747</td>\n",
              "    </tr>\n",
              "    <tr>\n",
              "      <th>3</th>\n",
              "      <td>0.024</td>\n",
              "      <td>0.25214</td>\n",
              "      <td>0.32991</td>\n",
              "      <td>0.50000</td>\n",
              "      <td>0.47019</td>\n",
              "      <td>1.2590</td>\n",
              "    </tr>\n",
              "    <tr>\n",
              "      <th>4</th>\n",
              "      <td>0.032</td>\n",
              "      <td>0.24139</td>\n",
              "      <td>0.36510</td>\n",
              "      <td>0.45992</td>\n",
              "      <td>0.45992</td>\n",
              "      <td>1.2444</td>\n",
              "    </tr>\n",
              "  </tbody>\n",
              "</table>\n",
              "</div>\n",
              "      <button class=\"colab-df-convert\" onclick=\"convertToInteractive('df-4ee5277c-8ea9-4d65-b9ff-cea76082f411')\"\n",
              "              title=\"Convert this dataframe to an interactive table.\"\n",
              "              style=\"display:none;\">\n",
              "        \n",
              "  <svg xmlns=\"http://www.w3.org/2000/svg\" height=\"24px\"viewBox=\"0 0 24 24\"\n",
              "       width=\"24px\">\n",
              "    <path d=\"M0 0h24v24H0V0z\" fill=\"none\"/>\n",
              "    <path d=\"M18.56 5.44l.94 2.06.94-2.06 2.06-.94-2.06-.94-.94-2.06-.94 2.06-2.06.94zm-11 1L8.5 8.5l.94-2.06 2.06-.94-2.06-.94L8.5 2.5l-.94 2.06-2.06.94zm10 10l.94 2.06.94-2.06 2.06-.94-2.06-.94-.94-2.06-.94 2.06-2.06.94z\"/><path d=\"M17.41 7.96l-1.37-1.37c-.4-.4-.92-.59-1.43-.59-.52 0-1.04.2-1.43.59L10.3 9.45l-7.72 7.72c-.78.78-.78 2.05 0 2.83L4 21.41c.39.39.9.59 1.41.59.51 0 1.02-.2 1.41-.59l7.78-7.78 2.81-2.81c.8-.78.8-2.07 0-2.86zM5.41 20L4 18.59l7.72-7.72 1.47 1.35L5.41 20z\"/>\n",
              "  </svg>\n",
              "      </button>\n",
              "      \n",
              "  <style>\n",
              "    .colab-df-container {\n",
              "      display:flex;\n",
              "      flex-wrap:wrap;\n",
              "      gap: 12px;\n",
              "    }\n",
              "\n",
              "    .colab-df-convert {\n",
              "      background-color: #E8F0FE;\n",
              "      border: none;\n",
              "      border-radius: 50%;\n",
              "      cursor: pointer;\n",
              "      display: none;\n",
              "      fill: #1967D2;\n",
              "      height: 32px;\n",
              "      padding: 0 0 0 0;\n",
              "      width: 32px;\n",
              "    }\n",
              "\n",
              "    .colab-df-convert:hover {\n",
              "      background-color: #E2EBFA;\n",
              "      box-shadow: 0px 1px 2px rgba(60, 64, 67, 0.3), 0px 1px 3px 1px rgba(60, 64, 67, 0.15);\n",
              "      fill: #174EA6;\n",
              "    }\n",
              "\n",
              "    [theme=dark] .colab-df-convert {\n",
              "      background-color: #3B4455;\n",
              "      fill: #D2E3FC;\n",
              "    }\n",
              "\n",
              "    [theme=dark] .colab-df-convert:hover {\n",
              "      background-color: #434B5C;\n",
              "      box-shadow: 0px 1px 3px 1px rgba(0, 0, 0, 0.15);\n",
              "      filter: drop-shadow(0px 1px 2px rgba(0, 0, 0, 0.3));\n",
              "      fill: #FFFFFF;\n",
              "    }\n",
              "  </style>\n",
              "\n",
              "      <script>\n",
              "        const buttonEl =\n",
              "          document.querySelector('#df-4ee5277c-8ea9-4d65-b9ff-cea76082f411 button.colab-df-convert');\n",
              "        buttonEl.style.display =\n",
              "          google.colab.kernel.accessAllowed ? 'block' : 'none';\n",
              "\n",
              "        async function convertToInteractive(key) {\n",
              "          const element = document.querySelector('#df-4ee5277c-8ea9-4d65-b9ff-cea76082f411');\n",
              "          const dataTable =\n",
              "            await google.colab.kernel.invokeFunction('convertToInteractive',\n",
              "                                                     [key], {});\n",
              "          if (!dataTable) return;\n",
              "\n",
              "          const docLinkHtml = 'Like what you see? Visit the ' +\n",
              "            '<a target=\"_blank\" href=https://colab.research.google.com/notebooks/data_table.ipynb>data table notebook</a>'\n",
              "            + ' to learn more about interactive tables.';\n",
              "          element.innerHTML = '';\n",
              "          dataTable['output_type'] = 'display_data';\n",
              "          await google.colab.output.renderOutput(dataTable, element);\n",
              "          const docLink = document.createElement('div');\n",
              "          docLink.innerHTML = docLinkHtml;\n",
              "          element.appendChild(docLink);\n",
              "        }\n",
              "      </script>\n",
              "    </div>\n",
              "  </div>\n",
              "  "
            ]
          },
          "metadata": {},
          "execution_count": 12
        }
      ]
    },
    {
      "cell_type": "markdown",
      "source": [
        "#DENOISING"
      ],
      "metadata": {
        "id": "gfPw1FY0mj06"
      }
    },
    {
      "cell_type": "code",
      "source": [
        "pip install heartpy"
      ],
      "metadata": {
        "colab": {
          "base_uri": "https://localhost:8080/"
        },
        "id": "fHsgpdhQmm9x",
        "outputId": "e39e1fe3-7655-4b3c-cef3-ac11607cb526"
      },
      "execution_count": 13,
      "outputs": [
        {
          "output_type": "stream",
          "name": "stdout",
          "text": [
            "Looking in indexes: https://pypi.org/simple, https://us-python.pkg.dev/colab-wheels/public/simple/\n",
            "Collecting heartpy\n",
            "  Downloading heartpy-1.2.7-py3-none-any.whl (1.0 MB)\n",
            "\u001b[K     |████████████████████████████████| 1.0 MB 8.5 MB/s \n",
            "\u001b[?25hRequirement already satisfied: numpy>=1.17 in /usr/local/lib/python3.7/dist-packages (from heartpy) (1.21.6)\n",
            "Requirement already satisfied: matplotlib<=3.3.4 in /usr/local/lib/python3.7/dist-packages (from heartpy) (3.2.2)\n",
            "Requirement already satisfied: scipy in /usr/local/lib/python3.7/dist-packages (from heartpy) (1.7.3)\n",
            "Requirement already satisfied: cycler>=0.10 in /usr/local/lib/python3.7/dist-packages (from matplotlib<=3.3.4->heartpy) (0.11.0)\n",
            "Requirement already satisfied: pyparsing!=2.0.4,!=2.1.2,!=2.1.6,>=2.0.1 in /usr/local/lib/python3.7/dist-packages (from matplotlib<=3.3.4->heartpy) (3.0.9)\n",
            "Requirement already satisfied: kiwisolver>=1.0.1 in /usr/local/lib/python3.7/dist-packages (from matplotlib<=3.3.4->heartpy) (1.4.4)\n",
            "Requirement already satisfied: python-dateutil>=2.1 in /usr/local/lib/python3.7/dist-packages (from matplotlib<=3.3.4->heartpy) (2.8.2)\n",
            "Requirement already satisfied: typing-extensions in /usr/local/lib/python3.7/dist-packages (from kiwisolver>=1.0.1->matplotlib<=3.3.4->heartpy) (4.1.1)\n",
            "Requirement already satisfied: six>=1.5 in /usr/local/lib/python3.7/dist-packages (from python-dateutil>=2.1->matplotlib<=3.3.4->heartpy) (1.15.0)\n",
            "Installing collected packages: heartpy\n",
            "Successfully installed heartpy-1.2.7\n"
          ]
        }
      ]
    },
    {
      "cell_type": "code",
      "source": [
        "import numpy as np\n",
        "import pandas as pd\n",
        "import heartpy as hp\n",
        "import matplotlib.pyplot as plt\n",
        "from skimage.restoration import denoise_wavelet"
      ],
      "metadata": {
        "id": "fdmOYNRimp2s"
      },
      "execution_count": 14,
      "outputs": []
    },
    {
      "cell_type": "code",
      "source": [
        "data = pd.read_excel('/content/drive/MyDrive/DATASET/Pengukuran Darah/bidmc_53_Signals.xlsx')"
      ],
      "metadata": {
        "id": "HfPKXzePmspM"
      },
      "execution_count": 15,
      "outputs": []
    },
    {
      "cell_type": "code",
      "source": [
        "data.tail()"
      ],
      "metadata": {
        "colab": {
          "base_uri": "https://localhost:8080/",
          "height": 0
        },
        "id": "ohwjLhcJmt-M",
        "outputId": "4a7a4a54-401b-42ac-d05a-befdc2f2ed07"
      },
      "execution_count": 16,
      "outputs": [
        {
          "output_type": "execute_result",
          "data": {
            "text/plain": [
              "       Time [s]     RESP       II        V      AVR   PLETH\n",
              "59996    479.97  0.96286  0.27468  0.44477  0.45015  1.2962\n",
              "59997    479.98  0.96164  0.26002  0.45503  0.45992  1.2884\n",
              "59998    479.98  0.96066  0.25464  0.48485  0.45015  1.2786\n",
              "59999    479.99  0.95749  0.22972  0.57527  0.42473  1.2678\n",
              "60000    480.00  0.95456  0.31476  0.71017  0.30987  1.2571"
            ],
            "text/html": [
              "\n",
              "  <div id=\"df-e692ca6b-ac74-4464-87a8-b617d2c53994\">\n",
              "    <div class=\"colab-df-container\">\n",
              "      <div>\n",
              "<style scoped>\n",
              "    .dataframe tbody tr th:only-of-type {\n",
              "        vertical-align: middle;\n",
              "    }\n",
              "\n",
              "    .dataframe tbody tr th {\n",
              "        vertical-align: top;\n",
              "    }\n",
              "\n",
              "    .dataframe thead th {\n",
              "        text-align: right;\n",
              "    }\n",
              "</style>\n",
              "<table border=\"1\" class=\"dataframe\">\n",
              "  <thead>\n",
              "    <tr style=\"text-align: right;\">\n",
              "      <th></th>\n",
              "      <th>Time [s]</th>\n",
              "      <th>RESP</th>\n",
              "      <th>II</th>\n",
              "      <th>V</th>\n",
              "      <th>AVR</th>\n",
              "      <th>PLETH</th>\n",
              "    </tr>\n",
              "  </thead>\n",
              "  <tbody>\n",
              "    <tr>\n",
              "      <th>59996</th>\n",
              "      <td>479.97</td>\n",
              "      <td>0.96286</td>\n",
              "      <td>0.27468</td>\n",
              "      <td>0.44477</td>\n",
              "      <td>0.45015</td>\n",
              "      <td>1.2962</td>\n",
              "    </tr>\n",
              "    <tr>\n",
              "      <th>59997</th>\n",
              "      <td>479.98</td>\n",
              "      <td>0.96164</td>\n",
              "      <td>0.26002</td>\n",
              "      <td>0.45503</td>\n",
              "      <td>0.45992</td>\n",
              "      <td>1.2884</td>\n",
              "    </tr>\n",
              "    <tr>\n",
              "      <th>59998</th>\n",
              "      <td>479.98</td>\n",
              "      <td>0.96066</td>\n",
              "      <td>0.25464</td>\n",
              "      <td>0.48485</td>\n",
              "      <td>0.45015</td>\n",
              "      <td>1.2786</td>\n",
              "    </tr>\n",
              "    <tr>\n",
              "      <th>59999</th>\n",
              "      <td>479.99</td>\n",
              "      <td>0.95749</td>\n",
              "      <td>0.22972</td>\n",
              "      <td>0.57527</td>\n",
              "      <td>0.42473</td>\n",
              "      <td>1.2678</td>\n",
              "    </tr>\n",
              "    <tr>\n",
              "      <th>60000</th>\n",
              "      <td>480.00</td>\n",
              "      <td>0.95456</td>\n",
              "      <td>0.31476</td>\n",
              "      <td>0.71017</td>\n",
              "      <td>0.30987</td>\n",
              "      <td>1.2571</td>\n",
              "    </tr>\n",
              "  </tbody>\n",
              "</table>\n",
              "</div>\n",
              "      <button class=\"colab-df-convert\" onclick=\"convertToInteractive('df-e692ca6b-ac74-4464-87a8-b617d2c53994')\"\n",
              "              title=\"Convert this dataframe to an interactive table.\"\n",
              "              style=\"display:none;\">\n",
              "        \n",
              "  <svg xmlns=\"http://www.w3.org/2000/svg\" height=\"24px\"viewBox=\"0 0 24 24\"\n",
              "       width=\"24px\">\n",
              "    <path d=\"M0 0h24v24H0V0z\" fill=\"none\"/>\n",
              "    <path d=\"M18.56 5.44l.94 2.06.94-2.06 2.06-.94-2.06-.94-.94-2.06-.94 2.06-2.06.94zm-11 1L8.5 8.5l.94-2.06 2.06-.94-2.06-.94L8.5 2.5l-.94 2.06-2.06.94zm10 10l.94 2.06.94-2.06 2.06-.94-2.06-.94-.94-2.06-.94 2.06-2.06.94z\"/><path d=\"M17.41 7.96l-1.37-1.37c-.4-.4-.92-.59-1.43-.59-.52 0-1.04.2-1.43.59L10.3 9.45l-7.72 7.72c-.78.78-.78 2.05 0 2.83L4 21.41c.39.39.9.59 1.41.59.51 0 1.02-.2 1.41-.59l7.78-7.78 2.81-2.81c.8-.78.8-2.07 0-2.86zM5.41 20L4 18.59l7.72-7.72 1.47 1.35L5.41 20z\"/>\n",
              "  </svg>\n",
              "      </button>\n",
              "      \n",
              "  <style>\n",
              "    .colab-df-container {\n",
              "      display:flex;\n",
              "      flex-wrap:wrap;\n",
              "      gap: 12px;\n",
              "    }\n",
              "\n",
              "    .colab-df-convert {\n",
              "      background-color: #E8F0FE;\n",
              "      border: none;\n",
              "      border-radius: 50%;\n",
              "      cursor: pointer;\n",
              "      display: none;\n",
              "      fill: #1967D2;\n",
              "      height: 32px;\n",
              "      padding: 0 0 0 0;\n",
              "      width: 32px;\n",
              "    }\n",
              "\n",
              "    .colab-df-convert:hover {\n",
              "      background-color: #E2EBFA;\n",
              "      box-shadow: 0px 1px 2px rgba(60, 64, 67, 0.3), 0px 1px 3px 1px rgba(60, 64, 67, 0.15);\n",
              "      fill: #174EA6;\n",
              "    }\n",
              "\n",
              "    [theme=dark] .colab-df-convert {\n",
              "      background-color: #3B4455;\n",
              "      fill: #D2E3FC;\n",
              "    }\n",
              "\n",
              "    [theme=dark] .colab-df-convert:hover {\n",
              "      background-color: #434B5C;\n",
              "      box-shadow: 0px 1px 3px 1px rgba(0, 0, 0, 0.15);\n",
              "      filter: drop-shadow(0px 1px 2px rgba(0, 0, 0, 0.3));\n",
              "      fill: #FFFFFF;\n",
              "    }\n",
              "  </style>\n",
              "\n",
              "      <script>\n",
              "        const buttonEl =\n",
              "          document.querySelector('#df-e692ca6b-ac74-4464-87a8-b617d2c53994 button.colab-df-convert');\n",
              "        buttonEl.style.display =\n",
              "          google.colab.kernel.accessAllowed ? 'block' : 'none';\n",
              "\n",
              "        async function convertToInteractive(key) {\n",
              "          const element = document.querySelector('#df-e692ca6b-ac74-4464-87a8-b617d2c53994');\n",
              "          const dataTable =\n",
              "            await google.colab.kernel.invokeFunction('convertToInteractive',\n",
              "                                                     [key], {});\n",
              "          if (!dataTable) return;\n",
              "\n",
              "          const docLinkHtml = 'Like what you see? Visit the ' +\n",
              "            '<a target=\"_blank\" href=https://colab.research.google.com/notebooks/data_table.ipynb>data table notebook</a>'\n",
              "            + ' to learn more about interactive tables.';\n",
              "          element.innerHTML = '';\n",
              "          dataTable['output_type'] = 'display_data';\n",
              "          await google.colab.output.renderOutput(dataTable, element);\n",
              "          const docLink = document.createElement('div');\n",
              "          docLink.innerHTML = docLinkHtml;\n",
              "          element.appendChild(docLink);\n",
              "        }\n",
              "      </script>\n",
              "    </div>\n",
              "  </div>\n",
              "  "
            ]
          },
          "metadata": {},
          "execution_count": 16
        }
      ]
    },
    {
      "cell_type": "code",
      "source": [
        "ECG = data['II']\n",
        "PPG = data['PLETH']\n",
        "time = data['Time [s]']\n",
        "subject = 2\n",
        "bellow = 1200\n",
        "get = 3600\n",
        "\n",
        "ECG = ECG[bellow:get]\n",
        "PPG = PPG[bellow:get]\n",
        "time = time[bellow:get]\n",
        "ECG = ECG.to_numpy()\n",
        "PPG = PPG.to_numpy()\n",
        "time = time.to_numpy()"
      ],
      "metadata": {
        "id": "VeWA_bBwqjNr"
      },
      "execution_count": 17,
      "outputs": []
    },
    {
      "cell_type": "code",
      "source": [
        "\n",
        "plt.figure(figsize=(18,9))\n",
        "plt.subplot(211)\n",
        "plt.plot(ECG)\n",
        "plt.title('ECG Signal OR')\n",
        "plt.subplot(212)\n",
        "plt.plot(PPG)\n",
        "plt.title('PPG Signal OR')\n",
        "plt.show()"
      ],
      "metadata": {
        "colab": {
          "base_uri": "https://localhost:8080/",
          "height": 0
        },
        "id": "7C-EbzW3mx3O",
        "outputId": "03bf2bef-3179-4b80-c716-20e914d7d17b"
      },
      "execution_count": 18,
      "outputs": [
        {
          "output_type": "display_data",
          "data": {
            "text/plain": [
              "<Figure size 1296x648 with 2 Axes>"
            ],
            "image/png": "[encoded data removed]"
          },
          "metadata": {
            "needs_background": "light"
          }
        }
      ]
    },
    {
      "cell_type": "code",
      "source": [
        "help(hp.get_samplerate_datetime)"
      ],
      "metadata": {
        "colab": {
          "base_uri": "https://localhost:8080/"
        },
        "id": "TWRweDlKm8mY",
        "outputId": "c6e91966-3e46-4698-e326-c78764485257"
      },
      "execution_count": 19,
      "outputs": [
        {
          "output_type": "stream",
          "name": "stdout",
          "text": [
            "Help on function get_samplerate_datetime in module heartpy.datautils:\n",
            "\n",
            "get_samplerate_datetime(datetimedata, timeformat='%H:%M:%S.%f')\n",
            "    determine sample rate based on datetime\n",
            "    \n",
            "    Function to determine sample rate of data from datetime-based timer\n",
            "    list or array.\n",
            "    \n",
            "    Parameters\n",
            "    ----------\n",
            "    timerdata : 1-d numpy array or list\n",
            "        sequence containing datetime strings\n",
            "    \n",
            "    timeformat : string\n",
            "        the format of the datetime-strings in datetimedata\n",
            "        default : '%H:%M:%S.f' (24-hour based time including ms: e.g. 21:43:12.569)\n",
            "    \n",
            "    Returns\n",
            "    -------\n",
            "    out : float\n",
            "        the sample rate as determined from the timer sequence provided\n",
            "    \n",
            "    Examples\n",
            "    --------\n",
            "    We load the data like before\n",
            "    \n",
            "    >>> data, timer = load_exampledata(example = 2)\n",
            "    >>> timer[0]\n",
            "    '2016-11-24 13:58:58.081000'\n",
            "    \n",
            "    Note that we need to specify the timeformat used so that datetime understands\n",
            "    what it's working with:\n",
            "    \n",
            "    >>> round(get_samplerate_datetime(timer, timeformat = '%Y-%m-%d %H:%M:%S.%f'), 3)\n",
            "    100.42\n",
            "\n"
          ]
        }
      ]
    },
    {
      "cell_type": "code",
      "source": [
        "sample_rate = hp.get_samplerate_datetime(time, timeformat = '%S.%f')"
      ],
      "metadata": {
        "id": "0dWrica-m-bW"
      },
      "execution_count": 20,
      "outputs": []
    },
    {
      "cell_type": "code",
      "source": [
        "denoise = hp.filter_signal(PPG, \n",
        "                                cutoff = [0.8, 2.5], \n",
        "                                filtertype = 'bandpass',\n",
        "                                sample_rate = sample_rate, \n",
        "                                order = 3,\n",
        "                                return_top = False)"
      ],
      "metadata": {
        "id": "5V9spw3Jm_j3"
      },
      "execution_count": 21,
      "outputs": []
    },
    {
      "cell_type": "code",
      "source": [
        "data.to_csv(\"hasil.csv\")"
      ],
      "metadata": {
        "id": "MnAzI8PfxsDd"
      },
      "execution_count": 22,
      "outputs": []
    },
    {
      "cell_type": "code",
      "source": [
        "plt.figure(figsize=(18,9))\n",
        "plt.subplot(211)\n",
        "plt.plot(PPG)\n",
        "plt.title('Orignal Signal', fontsize=16)\n",
        "plt.subplot(212)\n",
        "plt.plot(denoise)\n",
        "plt.title('Denoise Signal', fontsize=16)\n",
        "# plt.savefig('Sample Signal Subject '+str(subject)+' ('+str(bellow)+'.'+str(get)+').png')\n",
        "plt.show()"
      ],
      "metadata": {
        "colab": {
          "base_uri": "https://localhost:8080/",
          "height": 0
        },
        "id": "kv6hf7JAxum8",
        "outputId": "ca76f97b-5df9-4af6-c6d7-1a453a05b4b1"
      },
      "execution_count": 23,
      "outputs": [
        {
          "output_type": "display_data",
          "data": {
            "text/plain": [
              "<Figure size 1296x648 with 2 Axes>"
            ],
            "image/png": "[encoded data removed]"
          },
          "metadata": {
            "needs_background": "light"
          }
        }
      ]
    },
    {
      "cell_type": "markdown",
      "source": [
        "#CLEANING "
      ],
      "metadata": {
        "id": "0DxvBfnXxPjD"
      }
    },
    {
      "cell_type": "markdown",
      "source": [
        "## Atrial Fibrillation (AF)"
      ],
      "metadata": {
        "id": "_ipF-9cmuQDK"
      }
    },
    {
      "cell_type": "code",
      "source": [
        "import pandas as pd\n",
        "import numpy as np\n",
        "dfn1 = pd.read_csv('/content/hasil.csv')\n",
        "dfn1"
      ],
      "metadata": {
        "id": "T_pXQYPQthvx",
        "colab": {
          "base_uri": "https://localhost:8080/",
          "height": 0
        },
        "outputId": "f90db86c-5f67-4a67-8963-a158e7760b95"
      },
      "execution_count": 24,
      "outputs": [
        {
          "output_type": "execute_result",
          "data": {
            "text/plain": [
              "       Unnamed: 0  Time [s]     RESP       II        V      AVR   PLETH\n",
              "0               0     0.000  0.28390  0.19990  0.59531  0.54985  1.3060\n",
              "1               1     0.008  0.27339  0.26002  0.58016  0.53519  1.2903\n",
              "2               2     0.016  0.26313  0.31476  0.54008  0.50000  1.2747\n",
              "3               3     0.024  0.25214  0.32991  0.50000  0.47019  1.2590\n",
              "4               4     0.032  0.24139  0.36510  0.45992  0.45992  1.2444\n",
              "...           ...       ...      ...      ...      ...      ...     ...\n",
              "59996       59996   479.970  0.96286  0.27468  0.44477  0.45015  1.2962\n",
              "59997       59997   479.980  0.96164  0.26002  0.45503  0.45992  1.2884\n",
              "59998       59998   479.980  0.96066  0.25464  0.48485  0.45015  1.2786\n",
              "59999       59999   479.990  0.95749  0.22972  0.57527  0.42473  1.2678\n",
              "60000       60000   480.000  0.95456  0.31476  0.71017  0.30987  1.2571\n",
              "\n",
              "[60001 rows x 7 columns]"
            ],
            "text/html": [
              "\n",
              "  <div id=\"df-11f5a2e3-3c99-4a7c-b558-102b01b5963e\">\n",
              "    <div class=\"colab-df-container\">\n",
              "      <div>\n",
              "<style scoped>\n",
              "    .dataframe tbody tr th:only-of-type {\n",
              "        vertical-align: middle;\n",
              "    }\n",
              "\n",
              "    .dataframe tbody tr th {\n",
              "        vertical-align: top;\n",
              "    }\n",
              "\n",
              "    .dataframe thead th {\n",
              "        text-align: right;\n",
              "    }\n",
              "</style>\n",
              "<table border=\"1\" class=\"dataframe\">\n",
              "  <thead>\n",
              "    <tr style=\"text-align: right;\">\n",
              "      <th></th>\n",
              "      <th>Unnamed: 0</th>\n",
              "      <th>Time [s]</th>\n",
              "      <th>RESP</th>\n",
              "      <th>II</th>\n",
              "      <th>V</th>\n",
              "      <th>AVR</th>\n",
              "      <th>PLETH</th>\n",
              "    </tr>\n",
              "  </thead>\n",
              "  <tbody>\n",
              "    <tr>\n",
              "      <th>0</th>\n",
              "      <td>0</td>\n",
              "      <td>0.000</td>\n",
              "      <td>0.28390</td>\n",
              "      <td>0.19990</td>\n",
              "      <td>0.59531</td>\n",
              "      <td>0.54985</td>\n",
              "      <td>1.3060</td>\n",
              "    </tr>\n",
              "    <tr>\n",
              "      <th>1</th>\n",
              "      <td>1</td>\n",
              "      <td>0.008</td>\n",
              "      <td>0.27339</td>\n",
              "      <td>0.26002</td>\n",
              "      <td>0.58016</td>\n",
              "      <td>0.53519</td>\n",
              "      <td>1.2903</td>\n",
              "    </tr>\n",
              "    <tr>\n",
              "      <th>2</th>\n",
              "      <td>2</td>\n",
              "      <td>0.016</td>\n",
              "      <td>0.26313</td>\n",
              "      <td>0.31476</td>\n",
              "      <td>0.54008</td>\n",
              "      <td>0.50000</td>\n",
              "      <td>1.2747</td>\n",
              "    </tr>\n",
              "    <tr>\n",
              "      <th>3</th>\n",
              "      <td>3</td>\n",
              "      <td>0.024</td>\n",
              "      <td>0.25214</td>\n",
              "      <td>0.32991</td>\n",
              "      <td>0.50000</td>\n",
              "      <td>0.47019</td>\n",
              "      <td>1.2590</td>\n",
              "    </tr>\n",
              "    <tr>\n",
              "      <th>4</th>\n",
              "      <td>4</td>\n",
              "      <td>0.032</td>\n",
              "      <td>0.24139</td>\n",
              "      <td>0.36510</td>\n",
              "      <td>0.45992</td>\n",
              "      <td>0.45992</td>\n",
              "      <td>1.2444</td>\n",
              "    </tr>\n",
              "    <tr>\n",
              "      <th>...</th>\n",
              "      <td>...</td>\n",
              "      <td>...</td>\n",
              "      <td>...</td>\n",
              "      <td>...</td>\n",
              "      <td>...</td>\n",
              "      <td>...</td>\n",
              "      <td>...</td>\n",
              "    </tr>\n",
              "    <tr>\n",
              "      <th>59996</th>\n",
              "      <td>59996</td>\n",
              "      <td>479.970</td>\n",
              "      <td>0.96286</td>\n",
              "      <td>0.27468</td>\n",
              "      <td>0.44477</td>\n",
              "      <td>0.45015</td>\n",
              "      <td>1.2962</td>\n",
              "    </tr>\n",
              "    <tr>\n",
              "      <th>59997</th>\n",
              "      <td>59997</td>\n",
              "      <td>479.980</td>\n",
              "      <td>0.96164</td>\n",
              "      <td>0.26002</td>\n",
              "      <td>0.45503</td>\n",
              "      <td>0.45992</td>\n",
              "      <td>1.2884</td>\n",
              "    </tr>\n",
              "    <tr>\n",
              "      <th>59998</th>\n",
              "      <td>59998</td>\n",
              "      <td>479.980</td>\n",
              "      <td>0.96066</td>\n",
              "      <td>0.25464</td>\n",
              "      <td>0.48485</td>\n",
              "      <td>0.45015</td>\n",
              "      <td>1.2786</td>\n",
              "    </tr>\n",
              "    <tr>\n",
              "      <th>59999</th>\n",
              "      <td>59999</td>\n",
              "      <td>479.990</td>\n",
              "      <td>0.95749</td>\n",
              "      <td>0.22972</td>\n",
              "      <td>0.57527</td>\n",
              "      <td>0.42473</td>\n",
              "      <td>1.2678</td>\n",
              "    </tr>\n",
              "    <tr>\n",
              "      <th>60000</th>\n",
              "      <td>60000</td>\n",
              "      <td>480.000</td>\n",
              "      <td>0.95456</td>\n",
              "      <td>0.31476</td>\n",
              "      <td>0.71017</td>\n",
              "      <td>0.30987</td>\n",
              "      <td>1.2571</td>\n",
              "    </tr>\n",
              "  </tbody>\n",
              "</table>\n",
              "<p>60001 rows × 7 columns</p>\n",
              "</div>\n",
              "      <button class=\"colab-df-convert\" onclick=\"convertToInteractive('df-11f5a2e3-3c99-4a7c-b558-102b01b5963e')\"\n",
              "              title=\"Convert this dataframe to an interactive table.\"\n",
              "              style=\"display:none;\">\n",
              "        \n",
              "  <svg xmlns=\"http://www.w3.org/2000/svg\" height=\"24px\"viewBox=\"0 0 24 24\"\n",
              "       width=\"24px\">\n",
              "    <path d=\"M0 0h24v24H0V0z\" fill=\"none\"/>\n",
              "    <path d=\"M18.56 5.44l.94 2.06.94-2.06 2.06-.94-2.06-.94-.94-2.06-.94 2.06-2.06.94zm-11 1L8.5 8.5l.94-2.06 2.06-.94-2.06-.94L8.5 2.5l-.94 2.06-2.06.94zm10 10l.94 2.06.94-2.06 2.06-.94-2.06-.94-.94-2.06-.94 2.06-2.06.94z\"/><path d=\"M17.41 7.96l-1.37-1.37c-.4-.4-.92-.59-1.43-.59-.52 0-1.04.2-1.43.59L10.3 9.45l-7.72 7.72c-.78.78-.78 2.05 0 2.83L4 21.41c.39.39.9.59 1.41.59.51 0 1.02-.2 1.41-.59l7.78-7.78 2.81-2.81c.8-.78.8-2.07 0-2.86zM5.41 20L4 18.59l7.72-7.72 1.47 1.35L5.41 20z\"/>\n",
              "  </svg>\n",
              "      </button>\n",
              "      \n",
              "  <style>\n",
              "    .colab-df-container {\n",
              "      display:flex;\n",
              "      flex-wrap:wrap;\n",
              "      gap: 12px;\n",
              "    }\n",
              "\n",
              "    .colab-df-convert {\n",
              "      background-color: #E8F0FE;\n",
              "      border: none;\n",
              "      border-radius: 50%;\n",
              "      cursor: pointer;\n",
              "      display: none;\n",
              "      fill: #1967D2;\n",
              "      height: 32px;\n",
              "      padding: 0 0 0 0;\n",
              "      width: 32px;\n",
              "    }\n",
              "\n",
              "    .colab-df-convert:hover {\n",
              "      background-color: #E2EBFA;\n",
              "      box-shadow: 0px 1px 2px rgba(60, 64, 67, 0.3), 0px 1px 3px 1px rgba(60, 64, 67, 0.15);\n",
              "      fill: #174EA6;\n",
              "    }\n",
              "\n",
              "    [theme=dark] .colab-df-convert {\n",
              "      background-color: #3B4455;\n",
              "      fill: #D2E3FC;\n",
              "    }\n",
              "\n",
              "    [theme=dark] .colab-df-convert:hover {\n",
              "      background-color: #434B5C;\n",
              "      box-shadow: 0px 1px 3px 1px rgba(0, 0, 0, 0.15);\n",
              "      filter: drop-shadow(0px 1px 2px rgba(0, 0, 0, 0.3));\n",
              "      fill: #FFFFFF;\n",
              "    }\n",
              "  </style>\n",
              "\n",
              "      <script>\n",
              "        const buttonEl =\n",
              "          document.querySelector('#df-11f5a2e3-3c99-4a7c-b558-102b01b5963e button.colab-df-convert');\n",
              "        buttonEl.style.display =\n",
              "          google.colab.kernel.accessAllowed ? 'block' : 'none';\n",
              "\n",
              "        async function convertToInteractive(key) {\n",
              "          const element = document.querySelector('#df-11f5a2e3-3c99-4a7c-b558-102b01b5963e');\n",
              "          const dataTable =\n",
              "            await google.colab.kernel.invokeFunction('convertToInteractive',\n",
              "                                                     [key], {});\n",
              "          if (!dataTable) return;\n",
              "\n",
              "          const docLinkHtml = 'Like what you see? Visit the ' +\n",
              "            '<a target=\"_blank\" href=https://colab.research.google.com/notebooks/data_table.ipynb>data table notebook</a>'\n",
              "            + ' to learn more about interactive tables.';\n",
              "          element.innerHTML = '';\n",
              "          dataTable['output_type'] = 'display_data';\n",
              "          await google.colab.output.renderOutput(dataTable, element);\n",
              "          const docLink = document.createElement('div');\n",
              "          docLink.innerHTML = docLinkHtml;\n",
              "          element.appendChild(docLink);\n",
              "        }\n",
              "      </script>\n",
              "    </div>\n",
              "  </div>\n",
              "  "
            ]
          },
          "metadata": {},
          "execution_count": 24
        }
      ]
    },
    {
      "cell_type": "code",
      "source": [
        "#check type data\n",
        "print(type(dfn1['II'][0]))\n",
        "print(type(dfn1['PLETH'][0]))"
      ],
      "metadata": {
        "id": "OZ8aYx9Otmmk",
        "colab": {
          "base_uri": "https://localhost:8080/"
        },
        "outputId": "d01a8c22-99ba-4ea8-8789-8b51f90b1876"
      },
      "execution_count": 25,
      "outputs": [
        {
          "output_type": "stream",
          "name": "stdout",
          "text": [
            "<class 'numpy.float64'>\n",
            "<class 'numpy.float64'>\n"
          ]
        }
      ]
    },
    {
      "cell_type": "code",
      "source": [
        "#memotong data \n",
        "dfn1 = dfn1.loc[200:]\n",
        "dfn1"
      ],
      "metadata": {
        "id": "EgEUDosepmO2",
        "colab": {
          "base_uri": "https://localhost:8080/",
          "height": 0
        },
        "outputId": "8e6da5ee-c4e1-4908-80c3-4278e534af96"
      },
      "execution_count": 26,
      "outputs": [
        {
          "output_type": "execute_result",
          "data": {
            "text/plain": [
              "       Unnamed: 0  Time [s]     RESP       II        V      AVR   PLETH\n",
              "200           200     1.600  0.65722  0.54008  0.63490  0.37977  2.0499\n",
              "201           201     1.608  0.65893  0.58016  0.61486  0.37488  2.0108\n",
              "202           202     1.616  0.66064  0.60508  0.60020  0.36999  1.9726\n",
              "203           203     1.624  0.66259  0.61486  0.60020  0.36510  1.9345\n",
              "204           204     1.632  0.66479  0.63490  0.59531  0.34995  1.8964\n",
              "...           ...       ...      ...      ...      ...      ...     ...\n",
              "59996       59996   479.970  0.96286  0.27468  0.44477  0.45015  1.2962\n",
              "59997       59997   479.980  0.96164  0.26002  0.45503  0.45992  1.2884\n",
              "59998       59998   479.980  0.96066  0.25464  0.48485  0.45015  1.2786\n",
              "59999       59999   479.990  0.95749  0.22972  0.57527  0.42473  1.2678\n",
              "60000       60000   480.000  0.95456  0.31476  0.71017  0.30987  1.2571\n",
              "\n",
              "[59801 rows x 7 columns]"
            ],
            "text/html": [
              "\n",
              "  <div id=\"df-f978d82e-2150-4d88-be83-c9fd7f979309\">\n",
              "    <div class=\"colab-df-container\">\n",
              "      <div>\n",
              "<style scoped>\n",
              "    .dataframe tbody tr th:only-of-type {\n",
              "        vertical-align: middle;\n",
              "    }\n",
              "\n",
              "    .dataframe tbody tr th {\n",
              "        vertical-align: top;\n",
              "    }\n",
              "\n",
              "    .dataframe thead th {\n",
              "        text-align: right;\n",
              "    }\n",
              "</style>\n",
              "<table border=\"1\" class=\"dataframe\">\n",
              "  <thead>\n",
              "    <tr style=\"text-align: right;\">\n",
              "      <th></th>\n",
              "      <th>Unnamed: 0</th>\n",
              "      <th>Time [s]</th>\n",
              "      <th>RESP</th>\n",
              "      <th>II</th>\n",
              "      <th>V</th>\n",
              "      <th>AVR</th>\n",
              "      <th>PLETH</th>\n",
              "    </tr>\n",
              "  </thead>\n",
              "  <tbody>\n",
              "    <tr>\n",
              "      <th>200</th>\n",
              "      <td>200</td>\n",
              "      <td>1.600</td>\n",
              "      <td>0.65722</td>\n",
              "      <td>0.54008</td>\n",
              "      <td>0.63490</td>\n",
              "      <td>0.37977</td>\n",
              "      <td>2.0499</td>\n",
              "    </tr>\n",
              "    <tr>\n",
              "      <th>201</th>\n",
              "      <td>201</td>\n",
              "      <td>1.608</td>\n",
              "      <td>0.65893</td>\n",
              "      <td>0.58016</td>\n",
              "      <td>0.61486</td>\n",
              "      <td>0.37488</td>\n",
              "      <td>2.0108</td>\n",
              "    </tr>\n",
              "    <tr>\n",
              "      <th>202</th>\n",
              "      <td>202</td>\n",
              "      <td>1.616</td>\n",
              "      <td>0.66064</td>\n",
              "      <td>0.60508</td>\n",
              "      <td>0.60020</td>\n",
              "      <td>0.36999</td>\n",
              "      <td>1.9726</td>\n",
              "    </tr>\n",
              "    <tr>\n",
              "      <th>203</th>\n",
              "      <td>203</td>\n",
              "      <td>1.624</td>\n",
              "      <td>0.66259</td>\n",
              "      <td>0.61486</td>\n",
              "      <td>0.60020</td>\n",
              "      <td>0.36510</td>\n",
              "      <td>1.9345</td>\n",
              "    </tr>\n",
              "    <tr>\n",
              "      <th>204</th>\n",
              "      <td>204</td>\n",
              "      <td>1.632</td>\n",
              "      <td>0.66479</td>\n",
              "      <td>0.63490</td>\n",
              "      <td>0.59531</td>\n",
              "      <td>0.34995</td>\n",
              "      <td>1.8964</td>\n",
              "    </tr>\n",
              "    <tr>\n",
              "      <th>...</th>\n",
              "      <td>...</td>\n",
              "      <td>...</td>\n",
              "      <td>...</td>\n",
              "      <td>...</td>\n",
              "      <td>...</td>\n",
              "      <td>...</td>\n",
              "      <td>...</td>\n",
              "    </tr>\n",
              "    <tr>\n",
              "      <th>59996</th>\n",
              "      <td>59996</td>\n",
              "      <td>479.970</td>\n",
              "      <td>0.96286</td>\n",
              "      <td>0.27468</td>\n",
              "      <td>0.44477</td>\n",
              "      <td>0.45015</td>\n",
              "      <td>1.2962</td>\n",
              "    </tr>\n",
              "    <tr>\n",
              "      <th>59997</th>\n",
              "      <td>59997</td>\n",
              "      <td>479.980</td>\n",
              "      <td>0.96164</td>\n",
              "      <td>0.26002</td>\n",
              "      <td>0.45503</td>\n",
              "      <td>0.45992</td>\n",
              "      <td>1.2884</td>\n",
              "    </tr>\n",
              "    <tr>\n",
              "      <th>59998</th>\n",
              "      <td>59998</td>\n",
              "      <td>479.980</td>\n",
              "      <td>0.96066</td>\n",
              "      <td>0.25464</td>\n",
              "      <td>0.48485</td>\n",
              "      <td>0.45015</td>\n",
              "      <td>1.2786</td>\n",
              "    </tr>\n",
              "    <tr>\n",
              "      <th>59999</th>\n",
              "      <td>59999</td>\n",
              "      <td>479.990</td>\n",
              "      <td>0.95749</td>\n",
              "      <td>0.22972</td>\n",
              "      <td>0.57527</td>\n",
              "      <td>0.42473</td>\n",
              "      <td>1.2678</td>\n",
              "    </tr>\n",
              "    <tr>\n",
              "      <th>60000</th>\n",
              "      <td>60000</td>\n",
              "      <td>480.000</td>\n",
              "      <td>0.95456</td>\n",
              "      <td>0.31476</td>\n",
              "      <td>0.71017</td>\n",
              "      <td>0.30987</td>\n",
              "      <td>1.2571</td>\n",
              "    </tr>\n",
              "  </tbody>\n",
              "</table>\n",
              "<p>59801 rows × 7 columns</p>\n",
              "</div>\n",
              "      <button class=\"colab-df-convert\" onclick=\"convertToInteractive('df-f978d82e-2150-4d88-be83-c9fd7f979309')\"\n",
              "              title=\"Convert this dataframe to an interactive table.\"\n",
              "              style=\"display:none;\">\n",
              "        \n",
              "  <svg xmlns=\"http://www.w3.org/2000/svg\" height=\"24px\"viewBox=\"0 0 24 24\"\n",
              "       width=\"24px\">\n",
              "    <path d=\"M0 0h24v24H0V0z\" fill=\"none\"/>\n",
              "    <path d=\"M18.56 5.44l.94 2.06.94-2.06 2.06-.94-2.06-.94-.94-2.06-.94 2.06-2.06.94zm-11 1L8.5 8.5l.94-2.06 2.06-.94-2.06-.94L8.5 2.5l-.94 2.06-2.06.94zm10 10l.94 2.06.94-2.06 2.06-.94-2.06-.94-.94-2.06-.94 2.06-2.06.94z\"/><path d=\"M17.41 7.96l-1.37-1.37c-.4-.4-.92-.59-1.43-.59-.52 0-1.04.2-1.43.59L10.3 9.45l-7.72 7.72c-.78.78-.78 2.05 0 2.83L4 21.41c.39.39.9.59 1.41.59.51 0 1.02-.2 1.41-.59l7.78-7.78 2.81-2.81c.8-.78.8-2.07 0-2.86zM5.41 20L4 18.59l7.72-7.72 1.47 1.35L5.41 20z\"/>\n",
              "  </svg>\n",
              "      </button>\n",
              "      \n",
              "  <style>\n",
              "    .colab-df-container {\n",
              "      display:flex;\n",
              "      flex-wrap:wrap;\n",
              "      gap: 12px;\n",
              "    }\n",
              "\n",
              "    .colab-df-convert {\n",
              "      background-color: #E8F0FE;\n",
              "      border: none;\n",
              "      border-radius: 50%;\n",
              "      cursor: pointer;\n",
              "      display: none;\n",
              "      fill: #1967D2;\n",
              "      height: 32px;\n",
              "      padding: 0 0 0 0;\n",
              "      width: 32px;\n",
              "    }\n",
              "\n",
              "    .colab-df-convert:hover {\n",
              "      background-color: #E2EBFA;\n",
              "      box-shadow: 0px 1px 2px rgba(60, 64, 67, 0.3), 0px 1px 3px 1px rgba(60, 64, 67, 0.15);\n",
              "      fill: #174EA6;\n",
              "    }\n",
              "\n",
              "    [theme=dark] .colab-df-convert {\n",
              "      background-color: #3B4455;\n",
              "      fill: #D2E3FC;\n",
              "    }\n",
              "\n",
              "    [theme=dark] .colab-df-convert:hover {\n",
              "      background-color: #434B5C;\n",
              "      box-shadow: 0px 1px 3px 1px rgba(0, 0, 0, 0.15);\n",
              "      filter: drop-shadow(0px 1px 2px rgba(0, 0, 0, 0.3));\n",
              "      fill: #FFFFFF;\n",
              "    }\n",
              "  </style>\n",
              "\n",
              "      <script>\n",
              "        const buttonEl =\n",
              "          document.querySelector('#df-f978d82e-2150-4d88-be83-c9fd7f979309 button.colab-df-convert');\n",
              "        buttonEl.style.display =\n",
              "          google.colab.kernel.accessAllowed ? 'block' : 'none';\n",
              "\n",
              "        async function convertToInteractive(key) {\n",
              "          const element = document.querySelector('#df-f978d82e-2150-4d88-be83-c9fd7f979309');\n",
              "          const dataTable =\n",
              "            await google.colab.kernel.invokeFunction('convertToInteractive',\n",
              "                                                     [key], {});\n",
              "          if (!dataTable) return;\n",
              "\n",
              "          const docLinkHtml = 'Like what you see? Visit the ' +\n",
              "            '<a target=\"_blank\" href=https://colab.research.google.com/notebooks/data_table.ipynb>data table notebook</a>'\n",
              "            + ' to learn more about interactive tables.';\n",
              "          element.innerHTML = '';\n",
              "          dataTable['output_type'] = 'display_data';\n",
              "          await google.colab.output.renderOutput(dataTable, element);\n",
              "          const docLink = document.createElement('div');\n",
              "          docLink.innerHTML = docLinkHtml;\n",
              "          element.appendChild(docLink);\n",
              "        }\n",
              "      </script>\n",
              "    </div>\n",
              "  </div>\n",
              "  "
            ]
          },
          "metadata": {},
          "execution_count": 26
        }
      ]
    },
    {
      "cell_type": "code",
      "source": [
        "#pembersihan objek dr str yg tdk terpakai\n",
        "dfn1['II'].replace('', np.nan, inplace=True)\n",
        "dfn1.dropna(subset=['II'], inplace=True)\n",
        "dfn1['PLETH'].replace('', np.nan, inplace=True)\n",
        "dfn1.dropna(subset=['PLETH'], inplace=True)\n",
        "\n",
        "dfn1.head(1)"
      ],
      "metadata": {
        "id": "PL-96ru9tqEd",
        "colab": {
          "base_uri": "https://localhost:8080/",
          "height": 0
        },
        "outputId": "2ba91daa-bb74-4bc2-a9c7-992185294f8c"
      },
      "execution_count": 27,
      "outputs": [
        {
          "output_type": "stream",
          "name": "stderr",
          "text": [
            "/usr/local/lib/python3.7/dist-packages/pandas/core/generic.py:6619: SettingWithCopyWarning: \n",
            "A value is trying to be set on a copy of a slice from a DataFrame\n",
            "\n",
            "See the caveats in the documentation: https://pandas.pydata.org/pandas-docs/stable/user_guide/indexing.html#returning-a-view-versus-a-copy\n",
            "  return self._update_inplace(result)\n",
            "/usr/local/lib/python3.7/dist-packages/pandas/util/_decorators.py:311: SettingWithCopyWarning: \n",
            "A value is trying to be set on a copy of a slice from a DataFrame\n",
            "\n",
            "See the caveats in the documentation: https://pandas.pydata.org/pandas-docs/stable/user_guide/indexing.html#returning-a-view-versus-a-copy\n",
            "  return func(*args, **kwargs)\n"
          ]
        },
        {
          "output_type": "execute_result",
          "data": {
            "text/plain": [
              "     Unnamed: 0  Time [s]     RESP       II       V      AVR   PLETH\n",
              "200         200       1.6  0.65722  0.54008  0.6349  0.37977  2.0499"
            ],
            "text/html": [
              "\n",
              "  <div id=\"df-9418f5d6-a075-4958-92a6-19c712024c74\">\n",
              "    <div class=\"colab-df-container\">\n",
              "      <div>\n",
              "<style scoped>\n",
              "    .dataframe tbody tr th:only-of-type {\n",
              "        vertical-align: middle;\n",
              "    }\n",
              "\n",
              "    .dataframe tbody tr th {\n",
              "        vertical-align: top;\n",
              "    }\n",
              "\n",
              "    .dataframe thead th {\n",
              "        text-align: right;\n",
              "    }\n",
              "</style>\n",
              "<table border=\"1\" class=\"dataframe\">\n",
              "  <thead>\n",
              "    <tr style=\"text-align: right;\">\n",
              "      <th></th>\n",
              "      <th>Unnamed: 0</th>\n",
              "      <th>Time [s]</th>\n",
              "      <th>RESP</th>\n",
              "      <th>II</th>\n",
              "      <th>V</th>\n",
              "      <th>AVR</th>\n",
              "      <th>PLETH</th>\n",
              "    </tr>\n",
              "  </thead>\n",
              "  <tbody>\n",
              "    <tr>\n",
              "      <th>200</th>\n",
              "      <td>200</td>\n",
              "      <td>1.6</td>\n",
              "      <td>0.65722</td>\n",
              "      <td>0.54008</td>\n",
              "      <td>0.6349</td>\n",
              "      <td>0.37977</td>\n",
              "      <td>2.0499</td>\n",
              "    </tr>\n",
              "  </tbody>\n",
              "</table>\n",
              "</div>\n",
              "      <button class=\"colab-df-convert\" onclick=\"convertToInteractive('df-9418f5d6-a075-4958-92a6-19c712024c74')\"\n",
              "              title=\"Convert this dataframe to an interactive table.\"\n",
              "              style=\"display:none;\">\n",
              "        \n",
              "  <svg xmlns=\"http://www.w3.org/2000/svg\" height=\"24px\"viewBox=\"0 0 24 24\"\n",
              "       width=\"24px\">\n",
              "    <path d=\"M0 0h24v24H0V0z\" fill=\"none\"/>\n",
              "    <path d=\"M18.56 5.44l.94 2.06.94-2.06 2.06-.94-2.06-.94-.94-2.06-.94 2.06-2.06.94zm-11 1L8.5 8.5l.94-2.06 2.06-.94-2.06-.94L8.5 2.5l-.94 2.06-2.06.94zm10 10l.94 2.06.94-2.06 2.06-.94-2.06-.94-.94-2.06-.94 2.06-2.06.94z\"/><path d=\"M17.41 7.96l-1.37-1.37c-.4-.4-.92-.59-1.43-.59-.52 0-1.04.2-1.43.59L10.3 9.45l-7.72 7.72c-.78.78-.78 2.05 0 2.83L4 21.41c.39.39.9.59 1.41.59.51 0 1.02-.2 1.41-.59l7.78-7.78 2.81-2.81c.8-.78.8-2.07 0-2.86zM5.41 20L4 18.59l7.72-7.72 1.47 1.35L5.41 20z\"/>\n",
              "  </svg>\n",
              "      </button>\n",
              "      \n",
              "  <style>\n",
              "    .colab-df-container {\n",
              "      display:flex;\n",
              "      flex-wrap:wrap;\n",
              "      gap: 12px;\n",
              "    }\n",
              "\n",
              "    .colab-df-convert {\n",
              "      background-color: #E8F0FE;\n",
              "      border: none;\n",
              "      border-radius: 50%;\n",
              "      cursor: pointer;\n",
              "      display: none;\n",
              "      fill: #1967D2;\n",
              "      height: 32px;\n",
              "      padding: 0 0 0 0;\n",
              "      width: 32px;\n",
              "    }\n",
              "\n",
              "    .colab-df-convert:hover {\n",
              "      background-color: #E2EBFA;\n",
              "      box-shadow: 0px 1px 2px rgba(60, 64, 67, 0.3), 0px 1px 3px 1px rgba(60, 64, 67, 0.15);\n",
              "      fill: #174EA6;\n",
              "    }\n",
              "\n",
              "    [theme=dark] .colab-df-convert {\n",
              "      background-color: #3B4455;\n",
              "      fill: #D2E3FC;\n",
              "    }\n",
              "\n",
              "    [theme=dark] .colab-df-convert:hover {\n",
              "      background-color: #434B5C;\n",
              "      box-shadow: 0px 1px 3px 1px rgba(0, 0, 0, 0.15);\n",
              "      filter: drop-shadow(0px 1px 2px rgba(0, 0, 0, 0.3));\n",
              "      fill: #FFFFFF;\n",
              "    }\n",
              "  </style>\n",
              "\n",
              "      <script>\n",
              "        const buttonEl =\n",
              "          document.querySelector('#df-9418f5d6-a075-4958-92a6-19c712024c74 button.colab-df-convert');\n",
              "        buttonEl.style.display =\n",
              "          google.colab.kernel.accessAllowed ? 'block' : 'none';\n",
              "\n",
              "        async function convertToInteractive(key) {\n",
              "          const element = document.querySelector('#df-9418f5d6-a075-4958-92a6-19c712024c74');\n",
              "          const dataTable =\n",
              "            await google.colab.kernel.invokeFunction('convertToInteractive',\n",
              "                                                     [key], {});\n",
              "          if (!dataTable) return;\n",
              "\n",
              "          const docLinkHtml = 'Like what you see? Visit the ' +\n",
              "            '<a target=\"_blank\" href=https://colab.research.google.com/notebooks/data_table.ipynb>data table notebook</a>'\n",
              "            + ' to learn more about interactive tables.';\n",
              "          element.innerHTML = '';\n",
              "          dataTable['output_type'] = 'display_data';\n",
              "          await google.colab.output.renderOutput(dataTable, element);\n",
              "          const docLink = document.createElement('div');\n",
              "          docLink.innerHTML = docLinkHtml;\n",
              "          element.appendChild(docLink);\n",
              "        }\n",
              "      </script>\n",
              "    </div>\n",
              "  </div>\n",
              "  "
            ]
          },
          "metadata": {},
          "execution_count": 27
        }
      ]
    },
    {
      "cell_type": "code",
      "source": [
        "dfn = pd.concat([dfn1]).reset_index(drop=True)\n",
        "len(dfn)"
      ],
      "metadata": {
        "id": "my7Nl8qttzea",
        "colab": {
          "base_uri": "https://localhost:8080/"
        },
        "outputId": "4e912c50-9eaa-4b75-cd23-2562406fe06d"
      },
      "execution_count": 28,
      "outputs": [
        {
          "output_type": "execute_result",
          "data": {
            "text/plain": [
              "59801"
            ]
          },
          "metadata": {},
          "execution_count": 28
        }
      ]
    },
    {
      "cell_type": "code",
      "source": [
        "import matplotlib.pyplot as plt\n",
        "plt.figure(figsize=(20, 5))\n",
        "plt.plot(dfn['PLETH'][:2000])"
      ],
      "metadata": {
        "id": "_zX8-rdet2Iy",
        "colab": {
          "base_uri": "https://localhost:8080/",
          "height": 0
        },
        "outputId": "aef73faf-315d-4e68-b6f8-80f14dc76d81"
      },
      "execution_count": 29,
      "outputs": [
        {
          "output_type": "execute_result",
          "data": {
            "text/plain": [
              "[<matplotlib.lines.Line2D at 0x7f209835ed10>]"
            ]
          },
          "metadata": {},
          "execution_count": 29
        },
        {
          "output_type": "display_data",
          "data": {
            "text/plain": [
              "<Figure size 1440x360 with 1 Axes>"
            ],
            "image/png": "[encoded data removed]"
          },
          "metadata": {
            "needs_background": "light"
          }
        }
      ]
    },
    {
      "cell_type": "code",
      "source": [
        "dfn = dfn.loc[0:1899]\n",
        "dfn.to_csv('hasilAFclean.csv')"
      ],
      "metadata": {
        "id": "F7OR63i5t6Cu"
      },
      "execution_count": 30,
      "outputs": []
    },
    {
      "cell_type": "markdown",
      "source": [
        "## Premature ventricular contraction (PVC) \n",
        "\n",
        "\n"
      ],
      "metadata": {
        "id": "NfRWUAq9udzB"
      }
    },
    {
      "cell_type": "code",
      "metadata": {
        "id": "miLCj6fa6p5v",
        "colab": {
          "base_uri": "https://localhost:8080/",
          "height": 0
        },
        "outputId": "9afef95c-4405-4104-a580-5002ddaed6a4"
      },
      "source": [
        "dfv1 = pd.read_csv('/content/hasil.csv')\n",
        "dfv1.head(1)"
      ],
      "execution_count": 31,
      "outputs": [
        {
          "output_type": "execute_result",
          "data": {
            "text/plain": [
              "   Unnamed: 0  Time [s]    RESP      II        V      AVR  PLETH\n",
              "0           0       0.0  0.2839  0.1999  0.59531  0.54985  1.306"
            ],
            "text/html": [
              "\n",
              "  <div id=\"df-23ecbc08-607e-49c0-b200-fd36377316c5\">\n",
              "    <div class=\"colab-df-container\">\n",
              "      <div>\n",
              "<style scoped>\n",
              "    .dataframe tbody tr th:only-of-type {\n",
              "        vertical-align: middle;\n",
              "    }\n",
              "\n",
              "    .dataframe tbody tr th {\n",
              "        vertical-align: top;\n",
              "    }\n",
              "\n",
              "    .dataframe thead th {\n",
              "        text-align: right;\n",
              "    }\n",
              "</style>\n",
              "<table border=\"1\" class=\"dataframe\">\n",
              "  <thead>\n",
              "    <tr style=\"text-align: right;\">\n",
              "      <th></th>\n",
              "      <th>Unnamed: 0</th>\n",
              "      <th>Time [s]</th>\n",
              "      <th>RESP</th>\n",
              "      <th>II</th>\n",
              "      <th>V</th>\n",
              "      <th>AVR</th>\n",
              "      <th>PLETH</th>\n",
              "    </tr>\n",
              "  </thead>\n",
              "  <tbody>\n",
              "    <tr>\n",
              "      <th>0</th>\n",
              "      <td>0</td>\n",
              "      <td>0.0</td>\n",
              "      <td>0.2839</td>\n",
              "      <td>0.1999</td>\n",
              "      <td>0.59531</td>\n",
              "      <td>0.54985</td>\n",
              "      <td>1.306</td>\n",
              "    </tr>\n",
              "  </tbody>\n",
              "</table>\n",
              "</div>\n",
              "      <button class=\"colab-df-convert\" onclick=\"convertToInteractive('df-23ecbc08-607e-49c0-b200-fd36377316c5')\"\n",
              "              title=\"Convert this dataframe to an interactive table.\"\n",
              "              style=\"display:none;\">\n",
              "        \n",
              "  <svg xmlns=\"http://www.w3.org/2000/svg\" height=\"24px\"viewBox=\"0 0 24 24\"\n",
              "       width=\"24px\">\n",
              "    <path d=\"M0 0h24v24H0V0z\" fill=\"none\"/>\n",
              "    <path d=\"M18.56 5.44l.94 2.06.94-2.06 2.06-.94-2.06-.94-.94-2.06-.94 2.06-2.06.94zm-11 1L8.5 8.5l.94-2.06 2.06-.94-2.06-.94L8.5 2.5l-.94 2.06-2.06.94zm10 10l.94 2.06.94-2.06 2.06-.94-2.06-.94-.94-2.06-.94 2.06-2.06.94z\"/><path d=\"M17.41 7.96l-1.37-1.37c-.4-.4-.92-.59-1.43-.59-.52 0-1.04.2-1.43.59L10.3 9.45l-7.72 7.72c-.78.78-.78 2.05 0 2.83L4 21.41c.39.39.9.59 1.41.59.51 0 1.02-.2 1.41-.59l7.78-7.78 2.81-2.81c.8-.78.8-2.07 0-2.86zM5.41 20L4 18.59l7.72-7.72 1.47 1.35L5.41 20z\"/>\n",
              "  </svg>\n",
              "      </button>\n",
              "      \n",
              "  <style>\n",
              "    .colab-df-container {\n",
              "      display:flex;\n",
              "      flex-wrap:wrap;\n",
              "      gap: 12px;\n",
              "    }\n",
              "\n",
              "    .colab-df-convert {\n",
              "      background-color: #E8F0FE;\n",
              "      border: none;\n",
              "      border-radius: 50%;\n",
              "      cursor: pointer;\n",
              "      display: none;\n",
              "      fill: #1967D2;\n",
              "      height: 32px;\n",
              "      padding: 0 0 0 0;\n",
              "      width: 32px;\n",
              "    }\n",
              "\n",
              "    .colab-df-convert:hover {\n",
              "      background-color: #E2EBFA;\n",
              "      box-shadow: 0px 1px 2px rgba(60, 64, 67, 0.3), 0px 1px 3px 1px rgba(60, 64, 67, 0.15);\n",
              "      fill: #174EA6;\n",
              "    }\n",
              "\n",
              "    [theme=dark] .colab-df-convert {\n",
              "      background-color: #3B4455;\n",
              "      fill: #D2E3FC;\n",
              "    }\n",
              "\n",
              "    [theme=dark] .colab-df-convert:hover {\n",
              "      background-color: #434B5C;\n",
              "      box-shadow: 0px 1px 3px 1px rgba(0, 0, 0, 0.15);\n",
              "      filter: drop-shadow(0px 1px 2px rgba(0, 0, 0, 0.3));\n",
              "      fill: #FFFFFF;\n",
              "    }\n",
              "  </style>\n",
              "\n",
              "      <script>\n",
              "        const buttonEl =\n",
              "          document.querySelector('#df-23ecbc08-607e-49c0-b200-fd36377316c5 button.colab-df-convert');\n",
              "        buttonEl.style.display =\n",
              "          google.colab.kernel.accessAllowed ? 'block' : 'none';\n",
              "\n",
              "        async function convertToInteractive(key) {\n",
              "          const element = document.querySelector('#df-23ecbc08-607e-49c0-b200-fd36377316c5');\n",
              "          const dataTable =\n",
              "            await google.colab.kernel.invokeFunction('convertToInteractive',\n",
              "                                                     [key], {});\n",
              "          if (!dataTable) return;\n",
              "\n",
              "          const docLinkHtml = 'Like what you see? Visit the ' +\n",
              "            '<a target=\"_blank\" href=https://colab.research.google.com/notebooks/data_table.ipynb>data table notebook</a>'\n",
              "            + ' to learn more about interactive tables.';\n",
              "          element.innerHTML = '';\n",
              "          dataTable['output_type'] = 'display_data';\n",
              "          await google.colab.output.renderOutput(dataTable, element);\n",
              "          const docLink = document.createElement('div');\n",
              "          docLink.innerHTML = docLinkHtml;\n",
              "          element.appendChild(docLink);\n",
              "        }\n",
              "      </script>\n",
              "    </div>\n",
              "  </div>\n",
              "  "
            ]
          },
          "metadata": {},
          "execution_count": 31
        }
      ]
    },
    {
      "cell_type": "code",
      "metadata": {
        "id": "Zi37SG9c6p5w",
        "colab": {
          "base_uri": "https://localhost:8080/"
        },
        "outputId": "ef99d5ed-be6d-44ad-f264-392dfd9bb2dd"
      },
      "source": [
        "print(type(dfv1['II'][0]))\n",
        "print(type(dfv1['PLETH'][0]))"
      ],
      "execution_count": 32,
      "outputs": [
        {
          "output_type": "stream",
          "name": "stdout",
          "text": [
            "<class 'numpy.float64'>\n",
            "<class 'numpy.float64'>\n"
          ]
        }
      ]
    },
    {
      "cell_type": "code",
      "metadata": {
        "id": "k95MBl676p5w",
        "colab": {
          "base_uri": "https://localhost:8080/",
          "height": 0
        },
        "outputId": "f7fceeb8-8570-4f82-8bc2-8f23cd733bdb"
      },
      "source": [
        "dfv1['II'].replace('', np.nan, inplace=True)\n",
        "dfv1.dropna(subset=['II'], inplace=True)\n",
        "dfv1['PLETH'].replace('', np.nan, inplace=True)\n",
        "dfv1.dropna(subset=['PLETH'], inplace=True)\n",
        "\n",
        "dfv1.head(1)"
      ],
      "execution_count": 33,
      "outputs": [
        {
          "output_type": "execute_result",
          "data": {
            "text/plain": [
              "   Unnamed: 0  Time [s]    RESP      II        V      AVR  PLETH\n",
              "0           0       0.0  0.2839  0.1999  0.59531  0.54985  1.306"
            ],
            "text/html": [
              "\n",
              "  <div id=\"df-11a55722-9b88-4067-89ba-dffa6712d551\">\n",
              "    <div class=\"colab-df-container\">\n",
              "      <div>\n",
              "<style scoped>\n",
              "    .dataframe tbody tr th:only-of-type {\n",
              "        vertical-align: middle;\n",
              "    }\n",
              "\n",
              "    .dataframe tbody tr th {\n",
              "        vertical-align: top;\n",
              "    }\n",
              "\n",
              "    .dataframe thead th {\n",
              "        text-align: right;\n",
              "    }\n",
              "</style>\n",
              "<table border=\"1\" class=\"dataframe\">\n",
              "  <thead>\n",
              "    <tr style=\"text-align: right;\">\n",
              "      <th></th>\n",
              "      <th>Unnamed: 0</th>\n",
              "      <th>Time [s]</th>\n",
              "      <th>RESP</th>\n",
              "      <th>II</th>\n",
              "      <th>V</th>\n",
              "      <th>AVR</th>\n",
              "      <th>PLETH</th>\n",
              "    </tr>\n",
              "  </thead>\n",
              "  <tbody>\n",
              "    <tr>\n",
              "      <th>0</th>\n",
              "      <td>0</td>\n",
              "      <td>0.0</td>\n",
              "      <td>0.2839</td>\n",
              "      <td>0.1999</td>\n",
              "      <td>0.59531</td>\n",
              "      <td>0.54985</td>\n",
              "      <td>1.306</td>\n",
              "    </tr>\n",
              "  </tbody>\n",
              "</table>\n",
              "</div>\n",
              "      <button class=\"colab-df-convert\" onclick=\"convertToInteractive('df-11a55722-9b88-4067-89ba-dffa6712d551')\"\n",
              "              title=\"Convert this dataframe to an interactive table.\"\n",
              "              style=\"display:none;\">\n",
              "        \n",
              "  <svg xmlns=\"http://www.w3.org/2000/svg\" height=\"24px\"viewBox=\"0 0 24 24\"\n",
              "       width=\"24px\">\n",
              "    <path d=\"M0 0h24v24H0V0z\" fill=\"none\"/>\n",
              "    <path d=\"M18.56 5.44l.94 2.06.94-2.06 2.06-.94-2.06-.94-.94-2.06-.94 2.06-2.06.94zm-11 1L8.5 8.5l.94-2.06 2.06-.94-2.06-.94L8.5 2.5l-.94 2.06-2.06.94zm10 10l.94 2.06.94-2.06 2.06-.94-2.06-.94-.94-2.06-.94 2.06-2.06.94z\"/><path d=\"M17.41 7.96l-1.37-1.37c-.4-.4-.92-.59-1.43-.59-.52 0-1.04.2-1.43.59L10.3 9.45l-7.72 7.72c-.78.78-.78 2.05 0 2.83L4 21.41c.39.39.9.59 1.41.59.51 0 1.02-.2 1.41-.59l7.78-7.78 2.81-2.81c.8-.78.8-2.07 0-2.86zM5.41 20L4 18.59l7.72-7.72 1.47 1.35L5.41 20z\"/>\n",
              "  </svg>\n",
              "      </button>\n",
              "      \n",
              "  <style>\n",
              "    .colab-df-container {\n",
              "      display:flex;\n",
              "      flex-wrap:wrap;\n",
              "      gap: 12px;\n",
              "    }\n",
              "\n",
              "    .colab-df-convert {\n",
              "      background-color: #E8F0FE;\n",
              "      border: none;\n",
              "      border-radius: 50%;\n",
              "      cursor: pointer;\n",
              "      display: none;\n",
              "      fill: #1967D2;\n",
              "      height: 32px;\n",
              "      padding: 0 0 0 0;\n",
              "      width: 32px;\n",
              "    }\n",
              "\n",
              "    .colab-df-convert:hover {\n",
              "      background-color: #E2EBFA;\n",
              "      box-shadow: 0px 1px 2px rgba(60, 64, 67, 0.3), 0px 1px 3px 1px rgba(60, 64, 67, 0.15);\n",
              "      fill: #174EA6;\n",
              "    }\n",
              "\n",
              "    [theme=dark] .colab-df-convert {\n",
              "      background-color: #3B4455;\n",
              "      fill: #D2E3FC;\n",
              "    }\n",
              "\n",
              "    [theme=dark] .colab-df-convert:hover {\n",
              "      background-color: #434B5C;\n",
              "      box-shadow: 0px 1px 3px 1px rgba(0, 0, 0, 0.15);\n",
              "      filter: drop-shadow(0px 1px 2px rgba(0, 0, 0, 0.3));\n",
              "      fill: #FFFFFF;\n",
              "    }\n",
              "  </style>\n",
              "\n",
              "      <script>\n",
              "        const buttonEl =\n",
              "          document.querySelector('#df-11a55722-9b88-4067-89ba-dffa6712d551 button.colab-df-convert');\n",
              "        buttonEl.style.display =\n",
              "          google.colab.kernel.accessAllowed ? 'block' : 'none';\n",
              "\n",
              "        async function convertToInteractive(key) {\n",
              "          const element = document.querySelector('#df-11a55722-9b88-4067-89ba-dffa6712d551');\n",
              "          const dataTable =\n",
              "            await google.colab.kernel.invokeFunction('convertToInteractive',\n",
              "                                                     [key], {});\n",
              "          if (!dataTable) return;\n",
              "\n",
              "          const docLinkHtml = 'Like what you see? Visit the ' +\n",
              "            '<a target=\"_blank\" href=https://colab.research.google.com/notebooks/data_table.ipynb>data table notebook</a>'\n",
              "            + ' to learn more about interactive tables.';\n",
              "          element.innerHTML = '';\n",
              "          dataTable['output_type'] = 'display_data';\n",
              "          await google.colab.output.renderOutput(dataTable, element);\n",
              "          const docLink = document.createElement('div');\n",
              "          docLink.innerHTML = docLinkHtml;\n",
              "          element.appendChild(docLink);\n",
              "        }\n",
              "      </script>\n",
              "    </div>\n",
              "  </div>\n",
              "  "
            ]
          },
          "metadata": {},
          "execution_count": 33
        }
      ]
    },
    {
      "cell_type": "code",
      "metadata": {
        "id": "xhwh5Ln46p5x",
        "colab": {
          "base_uri": "https://localhost:8080/"
        },
        "outputId": "694a57f1-e3b4-4baf-db10-9355a1fe0fe7"
      },
      "source": [
        "dfv = pd.concat([dfv1]).reset_index(drop=True)\n",
        "len(dfv)"
      ],
      "execution_count": 34,
      "outputs": [
        {
          "output_type": "execute_result",
          "data": {
            "text/plain": [
              "60001"
            ]
          },
          "metadata": {},
          "execution_count": 34
        }
      ]
    },
    {
      "cell_type": "code",
      "metadata": {
        "id": "fq4fxNM16p5x",
        "colab": {
          "base_uri": "https://localhost:8080/",
          "height": 0
        },
        "outputId": "318c87fe-aa4a-4f54-8a97-67df73e6e76d"
      },
      "source": [
        "import matplotlib.pyplot as plt\n",
        "plt.figure(figsize=(20, 5))\n",
        "plt.plot(dfv['PLETH'][0:2000])"
      ],
      "execution_count": 35,
      "outputs": [
        {
          "output_type": "execute_result",
          "data": {
            "text/plain": [
              "[<matplotlib.lines.Line2D at 0x7f209827a610>]"
            ]
          },
          "metadata": {},
          "execution_count": 35
        },
        {
          "output_type": "display_data",
          "data": {
            "text/plain": [
              "<Figure size 1440x360 with 1 Axes>"
            ],
            "image/png": "[encoded data removed]"
          },
          "metadata": {
            "needs_background": "light"
          }
        }
      ]
    },
    {
      "cell_type": "code",
      "metadata": {
        "id": "A3oA7Teb6p5x"
      },
      "source": [
        "dfv = dfv.loc[0:1899]\n",
        "dfv.to_csv('hasilPVCclean.csv')"
      ],
      "execution_count": 36,
      "outputs": []
    },
    {
      "cell_type": "markdown",
      "source": [
        "###NORMAL"
      ],
      "metadata": {
        "id": "zKocO3_Z05b3"
      }
    },
    {
      "cell_type": "code",
      "metadata": {
        "id": "lcJ2WL0A6p5y"
      },
      "source": [
        "import pandas as pd\n",
        "import numpy as np\n",
        "dfn1 = pd.read_csv('/content/hasil.csv')"
      ],
      "execution_count": 37,
      "outputs": []
    },
    {
      "cell_type": "code",
      "metadata": {
        "id": "9-57lthT6p5y",
        "colab": {
          "base_uri": "https://localhost:8080/"
        },
        "outputId": "72928bbd-fa13-405a-fd65-4d8745a0f739"
      },
      "source": [
        "#check type data\n",
        "print(type(dfn1['II'][0]))\n",
        "print(type(dfn1['PLETH'][0]))"
      ],
      "execution_count": 38,
      "outputs": [
        {
          "output_type": "stream",
          "name": "stdout",
          "text": [
            "<class 'numpy.float64'>\n",
            "<class 'numpy.float64'>\n"
          ]
        }
      ]
    },
    {
      "cell_type": "code",
      "metadata": {
        "id": "3UfkM4_B6p5z"
      },
      "source": [
        "#memotong data \n",
        "dfn1 = dfn1.loc[100:]"
      ],
      "execution_count": 39,
      "outputs": []
    },
    {
      "cell_type": "code",
      "metadata": {
        "id": "NCg1lmHv6p5z",
        "colab": {
          "base_uri": "https://localhost:8080/",
          "height": 0
        },
        "outputId": "33890948-507c-4b7f-846e-57ad5cb9c58b"
      },
      "source": [
        "#pembersihan objek dr str yg tdk terpakai\n",
        "dfn1['II'].replace('', np.nan, inplace=True)\n",
        "dfn1.dropna(subset=['II'], inplace=True)\n",
        "dfn1['PLETH'].replace('', np.nan, inplace=True)\n",
        "dfn1.dropna(subset=['PLETH'], inplace=True)\n",
        "\n",
        "dfn1.head(1)"
      ],
      "execution_count": 40,
      "outputs": [
        {
          "output_type": "execute_result",
          "data": {
            "text/plain": [
              "     Unnamed: 0  Time [s]     RESP       II        V      AVR   PLETH\n",
              "100         100       0.8  0.10213  0.18475 -0.10557  0.73021  1.6442"
            ],
            "text/html": [
              "\n",
              "  <div id=\"df-e735ddeb-a977-4ca3-9979-a5b4fc03faf2\">\n",
              "    <div class=\"colab-df-container\">\n",
              "      <div>\n",
              "<style scoped>\n",
              "    .dataframe tbody tr th:only-of-type {\n",
              "        vertical-align: middle;\n",
              "    }\n",
              "\n",
              "    .dataframe tbody tr th {\n",
              "        vertical-align: top;\n",
              "    }\n",
              "\n",
              "    .dataframe thead th {\n",
              "        text-align: right;\n",
              "    }\n",
              "</style>\n",
              "<table border=\"1\" class=\"dataframe\">\n",
              "  <thead>\n",
              "    <tr style=\"text-align: right;\">\n",
              "      <th></th>\n",
              "      <th>Unnamed: 0</th>\n",
              "      <th>Time [s]</th>\n",
              "      <th>RESP</th>\n",
              "      <th>II</th>\n",
              "      <th>V</th>\n",
              "      <th>AVR</th>\n",
              "      <th>PLETH</th>\n",
              "    </tr>\n",
              "  </thead>\n",
              "  <tbody>\n",
              "    <tr>\n",
              "      <th>100</th>\n",
              "      <td>100</td>\n",
              "      <td>0.8</td>\n",
              "      <td>0.10213</td>\n",
              "      <td>0.18475</td>\n",
              "      <td>-0.10557</td>\n",
              "      <td>0.73021</td>\n",
              "      <td>1.6442</td>\n",
              "    </tr>\n",
              "  </tbody>\n",
              "</table>\n",
              "</div>\n",
              "      <button class=\"colab-df-convert\" onclick=\"convertToInteractive('df-e735ddeb-a977-4ca3-9979-a5b4fc03faf2')\"\n",
              "              title=\"Convert this dataframe to an interactive table.\"\n",
              "              style=\"display:none;\">\n",
              "        \n",
              "  <svg xmlns=\"http://www.w3.org/2000/svg\" height=\"24px\"viewBox=\"0 0 24 24\"\n",
              "       width=\"24px\">\n",
              "    <path d=\"M0 0h24v24H0V0z\" fill=\"none\"/>\n",
              "    <path d=\"M18.56 5.44l.94 2.06.94-2.06 2.06-.94-2.06-.94-.94-2.06-.94 2.06-2.06.94zm-11 1L8.5 8.5l.94-2.06 2.06-.94-2.06-.94L8.5 2.5l-.94 2.06-2.06.94zm10 10l.94 2.06.94-2.06 2.06-.94-2.06-.94-.94-2.06-.94 2.06-2.06.94z\"/><path d=\"M17.41 7.96l-1.37-1.37c-.4-.4-.92-.59-1.43-.59-.52 0-1.04.2-1.43.59L10.3 9.45l-7.72 7.72c-.78.78-.78 2.05 0 2.83L4 21.41c.39.39.9.59 1.41.59.51 0 1.02-.2 1.41-.59l7.78-7.78 2.81-2.81c.8-.78.8-2.07 0-2.86zM5.41 20L4 18.59l7.72-7.72 1.47 1.35L5.41 20z\"/>\n",
              "  </svg>\n",
              "      </button>\n",
              "      \n",
              "  <style>\n",
              "    .colab-df-container {\n",
              "      display:flex;\n",
              "      flex-wrap:wrap;\n",
              "      gap: 12px;\n",
              "    }\n",
              "\n",
              "    .colab-df-convert {\n",
              "      background-color: #E8F0FE;\n",
              "      border: none;\n",
              "      border-radius: 50%;\n",
              "      cursor: pointer;\n",
              "      display: none;\n",
              "      fill: #1967D2;\n",
              "      height: 32px;\n",
              "      padding: 0 0 0 0;\n",
              "      width: 32px;\n",
              "    }\n",
              "\n",
              "    .colab-df-convert:hover {\n",
              "      background-color: #E2EBFA;\n",
              "      box-shadow: 0px 1px 2px rgba(60, 64, 67, 0.3), 0px 1px 3px 1px rgba(60, 64, 67, 0.15);\n",
              "      fill: #174EA6;\n",
              "    }\n",
              "\n",
              "    [theme=dark] .colab-df-convert {\n",
              "      background-color: #3B4455;\n",
              "      fill: #D2E3FC;\n",
              "    }\n",
              "\n",
              "    [theme=dark] .colab-df-convert:hover {\n",
              "      background-color: #434B5C;\n",
              "      box-shadow: 0px 1px 3px 1px rgba(0, 0, 0, 0.15);\n",
              "      filter: drop-shadow(0px 1px 2px rgba(0, 0, 0, 0.3));\n",
              "      fill: #FFFFFF;\n",
              "    }\n",
              "  </style>\n",
              "\n",
              "      <script>\n",
              "        const buttonEl =\n",
              "          document.querySelector('#df-e735ddeb-a977-4ca3-9979-a5b4fc03faf2 button.colab-df-convert');\n",
              "        buttonEl.style.display =\n",
              "          google.colab.kernel.accessAllowed ? 'block' : 'none';\n",
              "\n",
              "        async function convertToInteractive(key) {\n",
              "          const element = document.querySelector('#df-e735ddeb-a977-4ca3-9979-a5b4fc03faf2');\n",
              "          const dataTable =\n",
              "            await google.colab.kernel.invokeFunction('convertToInteractive',\n",
              "                                                     [key], {});\n",
              "          if (!dataTable) return;\n",
              "\n",
              "          const docLinkHtml = 'Like what you see? Visit the ' +\n",
              "            '<a target=\"_blank\" href=https://colab.research.google.com/notebooks/data_table.ipynb>data table notebook</a>'\n",
              "            + ' to learn more about interactive tables.';\n",
              "          element.innerHTML = '';\n",
              "          dataTable['output_type'] = 'display_data';\n",
              "          await google.colab.output.renderOutput(dataTable, element);\n",
              "          const docLink = document.createElement('div');\n",
              "          docLink.innerHTML = docLinkHtml;\n",
              "          element.appendChild(docLink);\n",
              "        }\n",
              "      </script>\n",
              "    </div>\n",
              "  </div>\n",
              "  "
            ]
          },
          "metadata": {},
          "execution_count": 40
        }
      ]
    },
    {
      "cell_type": "code",
      "metadata": {
        "id": "yRJ9AFD76p5z",
        "colab": {
          "base_uri": "https://localhost:8080/"
        },
        "outputId": "7d5049ba-102b-4b3e-d16e-96544e1985aa"
      },
      "source": [
        "dfn = pd.concat([dfn1]).reset_index(drop=True)\n",
        "len(dfn)"
      ],
      "execution_count": 41,
      "outputs": [
        {
          "output_type": "execute_result",
          "data": {
            "text/plain": [
              "59901"
            ]
          },
          "metadata": {},
          "execution_count": 41
        }
      ]
    },
    {
      "cell_type": "code",
      "metadata": {
        "id": "DkgaQZRS6p5z",
        "colab": {
          "base_uri": "https://localhost:8080/",
          "height": 0
        },
        "outputId": "e705e2fc-f6d7-43e8-d756-0f07cde73cae"
      },
      "source": [
        "import matplotlib.pyplot as plt\n",
        "plt.figure(figsize=(20, 5))\n",
        "plt.plot(dfn['PLETH'][:2000])"
      ],
      "execution_count": 42,
      "outputs": [
        {
          "output_type": "execute_result",
          "data": {
            "text/plain": [
              "[<matplotlib.lines.Line2D at 0x7f2097b7d7d0>]"
            ]
          },
          "metadata": {},
          "execution_count": 42
        },
        {
          "output_type": "display_data",
          "data": {
            "text/plain": [
              "<Figure size 1440x360 with 1 Axes>"
            ],
            "image/png": "[encoded data removed]"
          },
          "metadata": {
            "needs_background": "light"
          }
        }
      ]
    },
    {
      "cell_type": "code",
      "metadata": {
        "id": "hnvsDUbK6p50"
      },
      "source": [
        "dfn = dfn.loc[0:1899]\n",
        "dfn.to_csv('hasilNClean.csv')"
      ],
      "execution_count": 43,
      "outputs": []
    },
    {
      "cell_type": "markdown",
      "source": [
        "###PEAK SIGNAL\n"
      ],
      "metadata": {
        "id": "CcPgRH4Ox3Wa"
      }
    },
    {
      "cell_type": "code",
      "metadata": {
        "id": "AhrRLBGj9ZuZ",
        "colab": {
          "base_uri": "https://localhost:8080/",
          "height": 0
        },
        "outputId": "d1810d8a-1d17-4222-cd38-6eb7d5cde1b0"
      },
      "source": [
        "import pandas as pd\n",
        "import numpy as np\n",
        "dfn = pd.read_csv('/content/hasilAFclean.csv')\n",
        "dfn"
      ],
      "execution_count": 44,
      "outputs": [
        {
          "output_type": "execute_result",
          "data": {
            "text/plain": [
              "      Unnamed: 0  Unnamed: 0.1  Time [s]     RESP       II        V      AVR  \\\n",
              "0              0           200     1.600  0.65722  0.54008  0.63490  0.37977   \n",
              "1              1           201     1.608  0.65893  0.58016  0.61486  0.37488   \n",
              "2              2           202     1.616  0.66064  0.60508  0.60020  0.36999   \n",
              "3              3           203     1.624  0.66259  0.61486  0.60020  0.36510   \n",
              "4              4           204     1.632  0.66479  0.63490  0.59531  0.34995   \n",
              "...          ...           ...       ...      ...      ...      ...      ...   \n",
              "1895        1895          2095    16.760  0.21085  0.56989  0.67498  0.36510   \n",
              "1896        1896          2096    16.768  0.21011  0.60508  0.67009  0.34506   \n",
              "1897        1897          2097    16.776  0.20914  0.63001  0.65494  0.32991   \n",
              "1898        1898          2098    16.784  0.20816  0.64027  0.63001  0.33480   \n",
              "1899        1899          2099    16.792  0.20694  0.65005  0.60997  0.33480   \n",
              "\n",
              "       PLETH  \n",
              "0     2.0499  \n",
              "1     2.0108  \n",
              "2     1.9726  \n",
              "3     1.9345  \n",
              "4     1.8964  \n",
              "...      ...  \n",
              "1895  2.3324  \n",
              "1896  2.2796  \n",
              "1897  2.2287  \n",
              "1898  2.1799  \n",
              "1899  2.1310  \n",
              "\n",
              "[1900 rows x 8 columns]"
            ],
            "text/html": [
              "\n",
              "  <div id=\"df-466ba259-f23b-4b87-93b0-1cf9da4b3a36\">\n",
              "    <div class=\"colab-df-container\">\n",
              "      <div>\n",
              "<style scoped>\n",
              "    .dataframe tbody tr th:only-of-type {\n",
              "        vertical-align: middle;\n",
              "    }\n",
              "\n",
              "    .dataframe tbody tr th {\n",
              "        vertical-align: top;\n",
              "    }\n",
              "\n",
              "    .dataframe thead th {\n",
              "        text-align: right;\n",
              "    }\n",
              "</style>\n",
              "<table border=\"1\" class=\"dataframe\">\n",
              "  <thead>\n",
              "    <tr style=\"text-align: right;\">\n",
              "      <th></th>\n",
              "      <th>Unnamed: 0</th>\n",
              "      <th>Unnamed: 0.1</th>\n",
              "      <th>Time [s]</th>\n",
              "      <th>RESP</th>\n",
              "      <th>II</th>\n",
              "      <th>V</th>\n",
              "      <th>AVR</th>\n",
              "      <th>PLETH</th>\n",
              "    </tr>\n",
              "  </thead>\n",
              "  <tbody>\n",
              "    <tr>\n",
              "      <th>0</th>\n",
              "      <td>0</td>\n",
              "      <td>200</td>\n",
              "      <td>1.600</td>\n",
              "      <td>0.65722</td>\n",
              "      <td>0.54008</td>\n",
              "      <td>0.63490</td>\n",
              "      <td>0.37977</td>\n",
              "      <td>2.0499</td>\n",
              "    </tr>\n",
              "    <tr>\n",
              "      <th>1</th>\n",
              "      <td>1</td>\n",
              "      <td>201</td>\n",
              "      <td>1.608</td>\n",
              "      <td>0.65893</td>\n",
              "      <td>0.58016</td>\n",
              "      <td>0.61486</td>\n",
              "      <td>0.37488</td>\n",
              "      <td>2.0108</td>\n",
              "    </tr>\n",
              "    <tr>\n",
              "      <th>2</th>\n",
              "      <td>2</td>\n",
              "      <td>202</td>\n",
              "      <td>1.616</td>\n",
              "      <td>0.66064</td>\n",
              "      <td>0.60508</td>\n",
              "      <td>0.60020</td>\n",
              "      <td>0.36999</td>\n",
              "      <td>1.9726</td>\n",
              "    </tr>\n",
              "    <tr>\n",
              "      <th>3</th>\n",
              "      <td>3</td>\n",
              "      <td>203</td>\n",
              "      <td>1.624</td>\n",
              "      <td>0.66259</td>\n",
              "      <td>0.61486</td>\n",
              "      <td>0.60020</td>\n",
              "      <td>0.36510</td>\n",
              "      <td>1.9345</td>\n",
              "    </tr>\n",
              "    <tr>\n",
              "      <th>4</th>\n",
              "      <td>4</td>\n",
              "      <td>204</td>\n",
              "      <td>1.632</td>\n",
              "      <td>0.66479</td>\n",
              "      <td>0.63490</td>\n",
              "      <td>0.59531</td>\n",
              "      <td>0.34995</td>\n",
              "      <td>1.8964</td>\n",
              "    </tr>\n",
              "    <tr>\n",
              "      <th>...</th>\n",
              "      <td>...</td>\n",
              "      <td>...</td>\n",
              "      <td>...</td>\n",
              "      <td>...</td>\n",
              "      <td>...</td>\n",
              "      <td>...</td>\n",
              "      <td>...</td>\n",
              "      <td>...</td>\n",
              "    </tr>\n",
              "    <tr>\n",
              "      <th>1895</th>\n",
              "      <td>1895</td>\n",
              "      <td>2095</td>\n",
              "      <td>16.760</td>\n",
              "      <td>0.21085</td>\n",
              "      <td>0.56989</td>\n",
              "      <td>0.67498</td>\n",
              "      <td>0.36510</td>\n",
              "      <td>2.3324</td>\n",
              "    </tr>\n",
              "    <tr>\n",
              "      <th>1896</th>\n",
              "      <td>1896</td>\n",
              "      <td>2096</td>\n",
              "      <td>16.768</td>\n",
              "      <td>0.21011</td>\n",
              "      <td>0.60508</td>\n",
              "      <td>0.67009</td>\n",
              "      <td>0.34506</td>\n",
              "      <td>2.2796</td>\n",
              "    </tr>\n",
              "    <tr>\n",
              "      <th>1897</th>\n",
              "      <td>1897</td>\n",
              "      <td>2097</td>\n",
              "      <td>16.776</td>\n",
              "      <td>0.20914</td>\n",
              "      <td>0.63001</td>\n",
              "      <td>0.65494</td>\n",
              "      <td>0.32991</td>\n",
              "      <td>2.2287</td>\n",
              "    </tr>\n",
              "    <tr>\n",
              "      <th>1898</th>\n",
              "      <td>1898</td>\n",
              "      <td>2098</td>\n",
              "      <td>16.784</td>\n",
              "      <td>0.20816</td>\n",
              "      <td>0.64027</td>\n",
              "      <td>0.63001</td>\n",
              "      <td>0.33480</td>\n",
              "      <td>2.1799</td>\n",
              "    </tr>\n",
              "    <tr>\n",
              "      <th>1899</th>\n",
              "      <td>1899</td>\n",
              "      <td>2099</td>\n",
              "      <td>16.792</td>\n",
              "      <td>0.20694</td>\n",
              "      <td>0.65005</td>\n",
              "      <td>0.60997</td>\n",
              "      <td>0.33480</td>\n",
              "      <td>2.1310</td>\n",
              "    </tr>\n",
              "  </tbody>\n",
              "</table>\n",
              "<p>1900 rows × 8 columns</p>\n",
              "</div>\n",
              "      <button class=\"colab-df-convert\" onclick=\"convertToInteractive('df-466ba259-f23b-4b87-93b0-1cf9da4b3a36')\"\n",
              "              title=\"Convert this dataframe to an interactive table.\"\n",
              "              style=\"display:none;\">\n",
              "        \n",
              "  <svg xmlns=\"http://www.w3.org/2000/svg\" height=\"24px\"viewBox=\"0 0 24 24\"\n",
              "       width=\"24px\">\n",
              "    <path d=\"M0 0h24v24H0V0z\" fill=\"none\"/>\n",
              "    <path d=\"M18.56 5.44l.94 2.06.94-2.06 2.06-.94-2.06-.94-.94-2.06-.94 2.06-2.06.94zm-11 1L8.5 8.5l.94-2.06 2.06-.94-2.06-.94L8.5 2.5l-.94 2.06-2.06.94zm10 10l.94 2.06.94-2.06 2.06-.94-2.06-.94-.94-2.06-.94 2.06-2.06.94z\"/><path d=\"M17.41 7.96l-1.37-1.37c-.4-.4-.92-.59-1.43-.59-.52 0-1.04.2-1.43.59L10.3 9.45l-7.72 7.72c-.78.78-.78 2.05 0 2.83L4 21.41c.39.39.9.59 1.41.59.51 0 1.02-.2 1.41-.59l7.78-7.78 2.81-2.81c.8-.78.8-2.07 0-2.86zM5.41 20L4 18.59l7.72-7.72 1.47 1.35L5.41 20z\"/>\n",
              "  </svg>\n",
              "      </button>\n",
              "      \n",
              "  <style>\n",
              "    .colab-df-container {\n",
              "      display:flex;\n",
              "      flex-wrap:wrap;\n",
              "      gap: 12px;\n",
              "    }\n",
              "\n",
              "    .colab-df-convert {\n",
              "      background-color: #E8F0FE;\n",
              "      border: none;\n",
              "      border-radius: 50%;\n",
              "      cursor: pointer;\n",
              "      display: none;\n",
              "      fill: #1967D2;\n",
              "      height: 32px;\n",
              "      padding: 0 0 0 0;\n",
              "      width: 32px;\n",
              "    }\n",
              "\n",
              "    .colab-df-convert:hover {\n",
              "      background-color: #E2EBFA;\n",
              "      box-shadow: 0px 1px 2px rgba(60, 64, 67, 0.3), 0px 1px 3px 1px rgba(60, 64, 67, 0.15);\n",
              "      fill: #174EA6;\n",
              "    }\n",
              "\n",
              "    [theme=dark] .colab-df-convert {\n",
              "      background-color: #3B4455;\n",
              "      fill: #D2E3FC;\n",
              "    }\n",
              "\n",
              "    [theme=dark] .colab-df-convert:hover {\n",
              "      background-color: #434B5C;\n",
              "      box-shadow: 0px 1px 3px 1px rgba(0, 0, 0, 0.15);\n",
              "      filter: drop-shadow(0px 1px 2px rgba(0, 0, 0, 0.3));\n",
              "      fill: #FFFFFF;\n",
              "    }\n",
              "  </style>\n",
              "\n",
              "      <script>\n",
              "        const buttonEl =\n",
              "          document.querySelector('#df-466ba259-f23b-4b87-93b0-1cf9da4b3a36 button.colab-df-convert');\n",
              "        buttonEl.style.display =\n",
              "          google.colab.kernel.accessAllowed ? 'block' : 'none';\n",
              "\n",
              "        async function convertToInteractive(key) {\n",
              "          const element = document.querySelector('#df-466ba259-f23b-4b87-93b0-1cf9da4b3a36');\n",
              "          const dataTable =\n",
              "            await google.colab.kernel.invokeFunction('convertToInteractive',\n",
              "                                                     [key], {});\n",
              "          if (!dataTable) return;\n",
              "\n",
              "          const docLinkHtml = 'Like what you see? Visit the ' +\n",
              "            '<a target=\"_blank\" href=https://colab.research.google.com/notebooks/data_table.ipynb>data table notebook</a>'\n",
              "            + ' to learn more about interactive tables.';\n",
              "          element.innerHTML = '';\n",
              "          dataTable['output_type'] = 'display_data';\n",
              "          await google.colab.output.renderOutput(dataTable, element);\n",
              "          const docLink = document.createElement('div');\n",
              "          docLink.innerHTML = docLinkHtml;\n",
              "          element.appendChild(docLink);\n",
              "        }\n",
              "      </script>\n",
              "    </div>\n",
              "  </div>\n",
              "  "
            ]
          },
          "metadata": {},
          "execution_count": 44
        }
      ]
    },
    {
      "cell_type": "code",
      "metadata": {
        "id": "QHCGEzH19Zuc",
        "colab": {
          "base_uri": "https://localhost:8080/",
          "height": 0
        },
        "outputId": "ed2c4205-4e6b-43f9-829c-dff836fdd714"
      },
      "source": [
        "dfn.drop(['Unnamed: 0', 'Time [s]'], axis=1, inplace=True)\n",
        "dfn.head(1)"
      ],
      "execution_count": 45,
      "outputs": [
        {
          "output_type": "execute_result",
          "data": {
            "text/plain": [
              "   Unnamed: 0.1     RESP       II       V      AVR   PLETH\n",
              "0           200  0.65722  0.54008  0.6349  0.37977  2.0499"
            ],
            "text/html": [
              "\n",
              "  <div id=\"df-a63c3ad9-d215-42b5-9ad0-1f0463b65eba\">\n",
              "    <div class=\"colab-df-container\">\n",
              "      <div>\n",
              "<style scoped>\n",
              "    .dataframe tbody tr th:only-of-type {\n",
              "        vertical-align: middle;\n",
              "    }\n",
              "\n",
              "    .dataframe tbody tr th {\n",
              "        vertical-align: top;\n",
              "    }\n",
              "\n",
              "    .dataframe thead th {\n",
              "        text-align: right;\n",
              "    }\n",
              "</style>\n",
              "<table border=\"1\" class=\"dataframe\">\n",
              "  <thead>\n",
              "    <tr style=\"text-align: right;\">\n",
              "      <th></th>\n",
              "      <th>Unnamed: 0.1</th>\n",
              "      <th>RESP</th>\n",
              "      <th>II</th>\n",
              "      <th>V</th>\n",
              "      <th>AVR</th>\n",
              "      <th>PLETH</th>\n",
              "    </tr>\n",
              "  </thead>\n",
              "  <tbody>\n",
              "    <tr>\n",
              "      <th>0</th>\n",
              "      <td>200</td>\n",
              "      <td>0.65722</td>\n",
              "      <td>0.54008</td>\n",
              "      <td>0.6349</td>\n",
              "      <td>0.37977</td>\n",
              "      <td>2.0499</td>\n",
              "    </tr>\n",
              "  </tbody>\n",
              "</table>\n",
              "</div>\n",
              "      <button class=\"colab-df-convert\" onclick=\"convertToInteractive('df-a63c3ad9-d215-42b5-9ad0-1f0463b65eba')\"\n",
              "              title=\"Convert this dataframe to an interactive table.\"\n",
              "              style=\"display:none;\">\n",
              "        \n",
              "  <svg xmlns=\"http://www.w3.org/2000/svg\" height=\"24px\"viewBox=\"0 0 24 24\"\n",
              "       width=\"24px\">\n",
              "    <path d=\"M0 0h24v24H0V0z\" fill=\"none\"/>\n",
              "    <path d=\"M18.56 5.44l.94 2.06.94-2.06 2.06-.94-2.06-.94-.94-2.06-.94 2.06-2.06.94zm-11 1L8.5 8.5l.94-2.06 2.06-.94-2.06-.94L8.5 2.5l-.94 2.06-2.06.94zm10 10l.94 2.06.94-2.06 2.06-.94-2.06-.94-.94-2.06-.94 2.06-2.06.94z\"/><path d=\"M17.41 7.96l-1.37-1.37c-.4-.4-.92-.59-1.43-.59-.52 0-1.04.2-1.43.59L10.3 9.45l-7.72 7.72c-.78.78-.78 2.05 0 2.83L4 21.41c.39.39.9.59 1.41.59.51 0 1.02-.2 1.41-.59l7.78-7.78 2.81-2.81c.8-.78.8-2.07 0-2.86zM5.41 20L4 18.59l7.72-7.72 1.47 1.35L5.41 20z\"/>\n",
              "  </svg>\n",
              "      </button>\n",
              "      \n",
              "  <style>\n",
              "    .colab-df-container {\n",
              "      display:flex;\n",
              "      flex-wrap:wrap;\n",
              "      gap: 12px;\n",
              "    }\n",
              "\n",
              "    .colab-df-convert {\n",
              "      background-color: #E8F0FE;\n",
              "      border: none;\n",
              "      border-radius: 50%;\n",
              "      cursor: pointer;\n",
              "      display: none;\n",
              "      fill: #1967D2;\n",
              "      height: 32px;\n",
              "      padding: 0 0 0 0;\n",
              "      width: 32px;\n",
              "    }\n",
              "\n",
              "    .colab-df-convert:hover {\n",
              "      background-color: #E2EBFA;\n",
              "      box-shadow: 0px 1px 2px rgba(60, 64, 67, 0.3), 0px 1px 3px 1px rgba(60, 64, 67, 0.15);\n",
              "      fill: #174EA6;\n",
              "    }\n",
              "\n",
              "    [theme=dark] .colab-df-convert {\n",
              "      background-color: #3B4455;\n",
              "      fill: #D2E3FC;\n",
              "    }\n",
              "\n",
              "    [theme=dark] .colab-df-convert:hover {\n",
              "      background-color: #434B5C;\n",
              "      box-shadow: 0px 1px 3px 1px rgba(0, 0, 0, 0.15);\n",
              "      filter: drop-shadow(0px 1px 2px rgba(0, 0, 0, 0.3));\n",
              "      fill: #FFFFFF;\n",
              "    }\n",
              "  </style>\n",
              "\n",
              "      <script>\n",
              "        const buttonEl =\n",
              "          document.querySelector('#df-a63c3ad9-d215-42b5-9ad0-1f0463b65eba button.colab-df-convert');\n",
              "        buttonEl.style.display =\n",
              "          google.colab.kernel.accessAllowed ? 'block' : 'none';\n",
              "\n",
              "        async function convertToInteractive(key) {\n",
              "          const element = document.querySelector('#df-a63c3ad9-d215-42b5-9ad0-1f0463b65eba');\n",
              "          const dataTable =\n",
              "            await google.colab.kernel.invokeFunction('convertToInteractive',\n",
              "                                                     [key], {});\n",
              "          if (!dataTable) return;\n",
              "\n",
              "          const docLinkHtml = 'Like what you see? Visit the ' +\n",
              "            '<a target=\"_blank\" href=https://colab.research.google.com/notebooks/data_table.ipynb>data table notebook</a>'\n",
              "            + ' to learn more about interactive tables.';\n",
              "          element.innerHTML = '';\n",
              "          dataTable['output_type'] = 'display_data';\n",
              "          await google.colab.output.renderOutput(dataTable, element);\n",
              "          const docLink = document.createElement('div');\n",
              "          docLink.innerHTML = docLinkHtml;\n",
              "          element.appendChild(docLink);\n",
              "        }\n",
              "      </script>\n",
              "    </div>\n",
              "  </div>\n",
              "  "
            ]
          },
          "metadata": {},
          "execution_count": 45
        }
      ]
    },
    {
      "cell_type": "code",
      "metadata": {
        "id": "HsVt_aQg9Zud",
        "colab": {
          "base_uri": "https://localhost:8080/"
        },
        "outputId": "a0be51c7-cbb3-4024-aad6-ec00ec048be4"
      },
      "source": [
        "# mencari peak sinyal pleth\n",
        "import scipy.signal\n",
        "peaksn,_ = scipy.signal.find_peaks(dfn['PLETH'], distance=30)\n",
        "peaksn"
      ],
      "execution_count": 46,
      "outputs": [
        {
          "output_type": "execute_result",
          "data": {
            "text/plain": [
              "array([  66,  147,  226,  308,  355,  392,  461,  525,  568,  644,  718,\n",
              "        802,  866,  901,  964, 1047, 1107, 1154, 1231, 1307, 1350, 1438,\n",
              "       1516, 1593, 1668, 1740, 1805, 1881])"
            ]
          },
          "metadata": {},
          "execution_count": 46
        }
      ]
    },
    {
      "cell_type": "code",
      "metadata": {
        "id": "q5MhFkFB9Zue",
        "colab": {
          "base_uri": "https://localhost:8080/"
        },
        "outputId": "9f71567b-7893-4d61-ef75-f2860e786160"
      },
      "source": [
        "# hasil peak sinyal pleth\n",
        "peaksnidxn = dfn['PLETH'][peaksn]\n",
        "print(peaksnidxn)"
      ],
      "execution_count": 47,
      "outputs": [
        {
          "output_type": "stream",
          "name": "stdout",
          "text": [
            "66      3.1525\n",
            "147     2.6500\n",
            "226     2.6637\n",
            "308     2.5846\n",
            "355     1.5015\n",
            "392     3.0841\n",
            "461     2.9580\n",
            "525     2.8827\n",
            "568     2.2473\n",
            "644     2.6774\n",
            "718     2.8446\n",
            "802     3.3372\n",
            "866     1.0518\n",
            "901     2.8162\n",
            "964     2.2727\n",
            "1047    2.8133\n",
            "1107    2.4086\n",
            "1154    2.2092\n",
            "1231    2.7801\n",
            "1307    1.0117\n",
            "1350    3.6882\n",
            "1438    2.2512\n",
            "1516    2.4291\n",
            "1593    2.5230\n",
            "1668    2.8065\n",
            "1740    2.4936\n",
            "1805    2.5200\n",
            "1881    2.9697\n",
            "Name: PLETH, dtype: float64\n"
          ]
        }
      ]
    },
    {
      "cell_type": "code",
      "metadata": {
        "id": "xX11b8jX9Zue"
      },
      "source": [
        "import matplotlib.pyplot as plt\n",
        "import matplotlib.lines as mlines"
      ],
      "execution_count": 48,
      "outputs": []
    },
    {
      "cell_type": "code",
      "metadata": {
        "id": "wYcg6HLX9Zuf",
        "colab": {
          "base_uri": "https://localhost:8080/",
          "height": 0
        },
        "outputId": "5075777d-9588-46cf-9831-e64e32581f33"
      },
      "source": [
        "#plot peak R sinyal kedalam grafik\n",
        "peakslabel = mlines.Line2D([], [], color='red', linestyle=' ', marker='o', label='R Accepted')\n",
        "plt.figure(figsize=(10, 5))\n",
        "plt.legend(handles=[peakslabel])\n",
        "plt.plot(dfn['PLETH'])\n",
        "plt.plot(peaksnidxn, 'o', color='red')"
      ],
      "execution_count": 49,
      "outputs": [
        {
          "output_type": "execute_result",
          "data": {
            "text/plain": [
              "[<matplotlib.lines.Line2D at 0x7f2097c87fd0>]"
            ]
          },
          "metadata": {},
          "execution_count": 49
        },
        {
          "output_type": "display_data",
          "data": {
            "text/plain": [
              "<Figure size 720x360 with 1 Axes>"
            ],
            "image/png": "[encoded data removed]"
          },
          "metadata": {
            "needs_background": "light"
          }
        }
      ]
    },
    {
      "cell_type": "markdown",
      "source": [
        "#EKSTRAKSI FITUR"
      ],
      "metadata": {
        "id": "C0QB48VZpJhr"
      }
    },
    {
      "cell_type": "markdown",
      "source": [
        "##DICRETE WAVELET TRANSFORM"
      ],
      "metadata": {
        "id": "mRUm-U3y-F0h"
      }
    },
    {
      "cell_type": "code",
      "source": [
        "import pandas as pd\n",
        "import numpy as np\n",
        "\n",
        "import pywt\n",
        "import statistics\n",
        "import matplotlib.pyplot as plt\n",
        "from scipy.signal import resample, find_peaks\n",
        "from statsmodels.robust import mad"
      ],
      "metadata": {
        "id": "R28X1ck4-Cwm"
      },
      "execution_count": 50,
      "outputs": []
    },
    {
      "cell_type": "code",
      "source": [
        "def waveletSmooth(x, wavelet=\"db4\", level=1, title=None ):\n",
        "    coeff = pywt.wavedec( x, wavelet, mode=\"per\")\n",
        "    sigma = mad( coeff[-level] )\n",
        "    uthresh = sigma * np.sqrt( 2*np.log( len( x ) ) )\n",
        "    coeff[1:] = ( pywt.threshold( i, value=uthresh, mode=\"soft\" ) for i in coeff[1:] )\n",
        "    y = pywt.waverec( coeff, wavelet, mode=\"per\" )\n",
        "    return y"
      ],
      "metadata": {
        "id": "OiB6Sz4PAQGF"
      },
      "execution_count": 51,
      "outputs": []
    },
    {
      "cell_type": "code",
      "source": [
        "def dwt_extraction(ppg):\n",
        "    # Preprocessing using Wavelet Smoothing \n",
        "    sinyal = waveletSmooth(ppg)\n",
        "\n",
        "    # Extraction using Multilevel 1D Discrete Wavelet Transform\n",
        "    coeff = pywt.wavedec( ppg_out,'sym8', level=1)\n",
        "    return {'min': coeff[0].min(), \n",
        "            'max': coeff[0].max(), \n",
        "            'mean': statistics.mean(coeff[0]), \n",
        "            'med': statistics.median(coeff[0]), \n",
        "            'std': statistics.stdev(coeff[0])}"
      ],
      "metadata": {
        "id": "aZt2hLL1EJa1"
      },
      "execution_count": 52,
      "outputs": []
    },
    {
      "cell_type": "code",
      "source": [
        "labels = [{'name': 'AF', 'dataset': 'AF1KOSONG.csv', 'loops': 50, 'sample_rate': 50, 'windows': 100}, \n",
        "            {'name': 'N', 'dataset': 'nclean.csv', 'loops': 19, 'sample_rate': 50, 'windows': 100},\n",
        "            {'name': 'PVC', 'dataset': 'PVC1KOSONG.csv', 'loops': 12, 'sample_rate': 50, 'windows': 500}\n",
        "         ]    "
      ],
      "metadata": {
        "id": "fc0CxKDUENU_"
      },
      "execution_count": 53,
      "outputs": []
    },
    {
      "cell_type": "markdown",
      "source": [
        "##ENTROPY FEATURES \n",
        "\n",
        "\n",
        "\n"
      ],
      "metadata": {
        "id": "jAv33zwB5YO7"
      }
    },
    {
      "cell_type": "code",
      "source": [
        "import statistics as st\n",
        "import numpy as np\n",
        "import pandas as pd\n",
        "import scipy.stats as scst"
      ],
      "metadata": {
        "id": "23DIyeipZY86"
      },
      "execution_count": 54,
      "outputs": []
    },
    {
      "cell_type": "code",
      "source": [
        "from numpy.ma.core import std\n",
        "def shannon(x):\n",
        "  y=np.power(x,2)\n",
        "  y1=np.sum(y)\n",
        "  PE = y/y1\n",
        "  std=np.sum(PE*np.log(np.power(PE,2)))\n",
        "  return std"
      ],
      "metadata": {
        "id": "SB8Tg0KLbXyX"
      },
      "execution_count": 55,
      "outputs": []
    },
    {
      "cell_type": "code",
      "source": [
        "data = pd.read_csv('/content/hasilAFclean.csv')\n",
        "data.drop(['PLETH','II'], axis=1, inplace=True)\n",
        "data.to_csv(\"NBARU\")"
      ],
      "metadata": {
        "id": "txgdS5vfbalQ"
      },
      "execution_count": 56,
      "outputs": []
    },
    {
      "cell_type": "code",
      "source": [
        "#Loop on method based on Data Length \n",
        "#Use the k parameter to set the amount of data you want to split\n",
        "data = pd.read_csv('/content/drive/MyDrive/DATABASE/model/datareadyPVC.csv')\n",
        "k = 5\n",
        "STAT = pd.DataFrame(index=range(len(data)//k), columns=['std',\n",
        "                                                        'label'])\n",
        "  \n",
        "for i in range(len(data)//k):\n",
        "  start = i * k\n",
        "  end = (i + 1) * k\n",
        "  x = data.iloc[start:end,3].values\n",
        "\n",
        "  STAT['std'][i] = shannon(x)\n",
        "  STAT['label'][i] = 'PVC'"
      ],
      "metadata": {
        "id": "tBSiBEHxbe8v"
      },
      "execution_count": 57,
      "outputs": []
    },
    {
      "cell_type": "code",
      "source": [
        "  STAT.to_csv('resultAFclean.csv') "
      ],
      "metadata": {
        "id": "-Mx7JWY0bstm"
      },
      "execution_count": 58,
      "outputs": []
    },
    {
      "cell_type": "code",
      "source": [
        "STAT"
      ],
      "metadata": {
        "id": "AC64LytJe_-S",
        "colab": {
          "base_uri": "https://localhost:8080/",
          "height": 0
        },
        "outputId": "7de98340-c626-4e0d-eefc-238c2b89f9aa"
      },
      "execution_count": 59,
      "outputs": [
        {
          "output_type": "execute_result",
          "data": {
            "text/plain": [
              "        std label\n",
              "0  -3.16789   PVC\n",
              "1 -3.215798   PVC\n",
              "2 -3.217079   PVC\n",
              "3 -1.917014   PVC\n",
              "4 -2.734523   PVC"
            ],
            "text/html": [
              "\n",
              "  <div id=\"df-692e133a-e106-4509-8d14-cf5c27c495ce\">\n",
              "    <div class=\"colab-df-container\">\n",
              "      <div>\n",
              "<style scoped>\n",
              "    .dataframe tbody tr th:only-of-type {\n",
              "        vertical-align: middle;\n",
              "    }\n",
              "\n",
              "    .dataframe tbody tr th {\n",
              "        vertical-align: top;\n",
              "    }\n",
              "\n",
              "    .dataframe thead th {\n",
              "        text-align: right;\n",
              "    }\n",
              "</style>\n",
              "<table border=\"1\" class=\"dataframe\">\n",
              "  <thead>\n",
              "    <tr style=\"text-align: right;\">\n",
              "      <th></th>\n",
              "      <th>std</th>\n",
              "      <th>label</th>\n",
              "    </tr>\n",
              "  </thead>\n",
              "  <tbody>\n",
              "    <tr>\n",
              "      <th>0</th>\n",
              "      <td>-3.16789</td>\n",
              "      <td>PVC</td>\n",
              "    </tr>\n",
              "    <tr>\n",
              "      <th>1</th>\n",
              "      <td>-3.215798</td>\n",
              "      <td>PVC</td>\n",
              "    </tr>\n",
              "    <tr>\n",
              "      <th>2</th>\n",
              "      <td>-3.217079</td>\n",
              "      <td>PVC</td>\n",
              "    </tr>\n",
              "    <tr>\n",
              "      <th>3</th>\n",
              "      <td>-1.917014</td>\n",
              "      <td>PVC</td>\n",
              "    </tr>\n",
              "    <tr>\n",
              "      <th>4</th>\n",
              "      <td>-2.734523</td>\n",
              "      <td>PVC</td>\n",
              "    </tr>\n",
              "  </tbody>\n",
              "</table>\n",
              "</div>\n",
              "      <button class=\"colab-df-convert\" onclick=\"convertToInteractive('df-692e133a-e106-4509-8d14-cf5c27c495ce')\"\n",
              "              title=\"Convert this dataframe to an interactive table.\"\n",
              "              style=\"display:none;\">\n",
              "        \n",
              "  <svg xmlns=\"http://www.w3.org/2000/svg\" height=\"24px\"viewBox=\"0 0 24 24\"\n",
              "       width=\"24px\">\n",
              "    <path d=\"M0 0h24v24H0V0z\" fill=\"none\"/>\n",
              "    <path d=\"M18.56 5.44l.94 2.06.94-2.06 2.06-.94-2.06-.94-.94-2.06-.94 2.06-2.06.94zm-11 1L8.5 8.5l.94-2.06 2.06-.94-2.06-.94L8.5 2.5l-.94 2.06-2.06.94zm10 10l.94 2.06.94-2.06 2.06-.94-2.06-.94-.94-2.06-.94 2.06-2.06.94z\"/><path d=\"M17.41 7.96l-1.37-1.37c-.4-.4-.92-.59-1.43-.59-.52 0-1.04.2-1.43.59L10.3 9.45l-7.72 7.72c-.78.78-.78 2.05 0 2.83L4 21.41c.39.39.9.59 1.41.59.51 0 1.02-.2 1.41-.59l7.78-7.78 2.81-2.81c.8-.78.8-2.07 0-2.86zM5.41 20L4 18.59l7.72-7.72 1.47 1.35L5.41 20z\"/>\n",
              "  </svg>\n",
              "      </button>\n",
              "      \n",
              "  <style>\n",
              "    .colab-df-container {\n",
              "      display:flex;\n",
              "      flex-wrap:wrap;\n",
              "      gap: 12px;\n",
              "    }\n",
              "\n",
              "    .colab-df-convert {\n",
              "      background-color: #E8F0FE;\n",
              "      border: none;\n",
              "      border-radius: 50%;\n",
              "      cursor: pointer;\n",
              "      display: none;\n",
              "      fill: #1967D2;\n",
              "      height: 32px;\n",
              "      padding: 0 0 0 0;\n",
              "      width: 32px;\n",
              "    }\n",
              "\n",
              "    .colab-df-convert:hover {\n",
              "      background-color: #E2EBFA;\n",
              "      box-shadow: 0px 1px 2px rgba(60, 64, 67, 0.3), 0px 1px 3px 1px rgba(60, 64, 67, 0.15);\n",
              "      fill: #174EA6;\n",
              "    }\n",
              "\n",
              "    [theme=dark] .colab-df-convert {\n",
              "      background-color: #3B4455;\n",
              "      fill: #D2E3FC;\n",
              "    }\n",
              "\n",
              "    [theme=dark] .colab-df-convert:hover {\n",
              "      background-color: #434B5C;\n",
              "      box-shadow: 0px 1px 3px 1px rgba(0, 0, 0, 0.15);\n",
              "      filter: drop-shadow(0px 1px 2px rgba(0, 0, 0, 0.3));\n",
              "      fill: #FFFFFF;\n",
              "    }\n",
              "  </style>\n",
              "\n",
              "      <script>\n",
              "        const buttonEl =\n",
              "          document.querySelector('#df-692e133a-e106-4509-8d14-cf5c27c495ce button.colab-df-convert');\n",
              "        buttonEl.style.display =\n",
              "          google.colab.kernel.accessAllowed ? 'block' : 'none';\n",
              "\n",
              "        async function convertToInteractive(key) {\n",
              "          const element = document.querySelector('#df-692e133a-e106-4509-8d14-cf5c27c495ce');\n",
              "          const dataTable =\n",
              "            await google.colab.kernel.invokeFunction('convertToInteractive',\n",
              "                                                     [key], {});\n",
              "          if (!dataTable) return;\n",
              "\n",
              "          const docLinkHtml = 'Like what you see? Visit the ' +\n",
              "            '<a target=\"_blank\" href=https://colab.research.google.com/notebooks/data_table.ipynb>data table notebook</a>'\n",
              "            + ' to learn more about interactive tables.';\n",
              "          element.innerHTML = '';\n",
              "          dataTable['output_type'] = 'display_data';\n",
              "          await google.colab.output.renderOutput(dataTable, element);\n",
              "          const docLink = document.createElement('div');\n",
              "          docLink.innerHTML = docLinkHtml;\n",
              "          element.appendChild(docLink);\n",
              "        }\n",
              "      </script>\n",
              "    </div>\n",
              "  </div>\n",
              "  "
            ]
          },
          "metadata": {},
          "execution_count": 59
        }
      ]
    },
    {
      "cell_type": "markdown",
      "source": [
        "#MENCARI AKURASI DENGAN KNN"
      ],
      "metadata": {
        "id": "v7V9Ne2JpN_z"
      }
    },
    {
      "cell_type": "markdown",
      "source": [
        "##KNN\n"
      ],
      "metadata": {
        "id": "KH_uhXzSLdfr"
      }
    },
    {
      "cell_type": "code",
      "source": [
        "import pandas as pd\n",
        "import numpy as np"
      ],
      "metadata": {
        "id": "NQ9FQ4rKLfyT"
      },
      "execution_count": 60,
      "outputs": []
    },
    {
      "cell_type": "code",
      "source": [
        "df = pd.read_csv('/content/drive/MyDrive/DATABASE/predictfitur/datareadyAFPVC.csv')\n",
        "df['std'].replace('', np.nan, inplace=True)\n",
        "df.dropna(subset=['std'], inplace=True)\n",
        "df['std'].replace('', np.nan, inplace=True)\n",
        "df.dropna(subset=['std'], inplace=True)"
      ],
      "metadata": {
        "id": "POZCPCLaLkGY"
      },
      "execution_count": 61,
      "outputs": []
    },
    {
      "cell_type": "code",
      "source": [
        "df\n",
        "df.to_csv(\"data.csv\")"
      ],
      "metadata": {
        "id": "R1wontevLkBj"
      },
      "execution_count": 62,
      "outputs": []
    },
    {
      "cell_type": "code",
      "source": [
        "x = df[['min','max','std','med','mean']]\n",
        "# x = df[['min','max','std','med','mean']]\n",
        "y = df['label']"
      ],
      "metadata": {
        "id": "4EvIjubPLj-w"
      },
      "execution_count": 63,
      "outputs": []
    },
    {
      "cell_type": "code",
      "source": [
        "from sklearn.model_selection import train_test_split\n",
        "X_train, X_test, y_train, y_test = train_test_split(x, y,test_size=0.5,random_state=109)"
      ],
      "metadata": {
        "id": "cYmLC01YLj7_"
      },
      "execution_count": 64,
      "outputs": []
    },
    {
      "cell_type": "code",
      "source": [
        "from sklearn.neighbors import KNeighborsClassifier\n",
        "model = KNeighborsClassifier(n_neighbors=3)\n",
        "model.fit(X_train, y_train)\n",
        "y_pred = model.predict(X_test)\n",
        "\n",
        "from sklearn import metrics\n",
        "print(\"Accuracy:\",metrics.accuracy_score(y_test, y_pred))"
      ],
      "metadata": {
        "id": "GokrKs0ALj5U",
        "colab": {
          "base_uri": "https://localhost:8080/"
        },
        "outputId": "7c667cac-eacf-4197-89ec-5aa7621fc80b"
      },
      "execution_count": 65,
      "outputs": [
        {
          "output_type": "stream",
          "name": "stdout",
          "text": [
            "Accuracy: 0.9708029197080292\n"
          ]
        }
      ]
    },
    {
      "cell_type": "code",
      "source": [
        "from sklearn.metrics import confusion_matrix\n",
        "confusion_matrix(y_test, y_pred)"
      ],
      "metadata": {
        "id": "rnao5tfLLj3C",
        "colab": {
          "base_uri": "https://localhost:8080/"
        },
        "outputId": "a652e1c2-f867-4545-f863-d4eb2bb0fc48"
      },
      "execution_count": 66,
      "outputs": [
        {
          "output_type": "execute_result",
          "data": {
            "text/plain": [
              "array([[192,   0,   0],\n",
              "       [  3,  53,   1],\n",
              "       [  0,   4,  21]])"
            ]
          },
          "metadata": {},
          "execution_count": 66
        }
      ]
    },
    {
      "cell_type": "code",
      "source": [
        "from sklearn.metrics import classification_report\n",
        "print(classification_report(y_test, y_pred,))"
      ],
      "metadata": {
        "id": "2RpocPjvLj0V",
        "colab": {
          "base_uri": "https://localhost:8080/"
        },
        "outputId": "71b0b534-96ab-4253-d5bd-ac936b322e5f"
      },
      "execution_count": 67,
      "outputs": [
        {
          "output_type": "stream",
          "name": "stdout",
          "text": [
            "              precision    recall  f1-score   support\n",
            "\n",
            "          AF       0.98      1.00      0.99       192\n",
            "           N       0.93      0.93      0.93        57\n",
            "         PVC       0.95      0.84      0.89        25\n",
            "\n",
            "    accuracy                           0.97       274\n",
            "   macro avg       0.96      0.92      0.94       274\n",
            "weighted avg       0.97      0.97      0.97       274\n",
            "\n"
          ]
        }
      ]
    },
    {
      "cell_type": "code",
      "source": [
        "from sklearn.model_selection import cross_val_score\n",
        "\n",
        "score = cross_val_score(model, X_test, y_test, cv=10)\n",
        "score"
      ],
      "metadata": {
        "id": "sbTeIup9LjyN",
        "colab": {
          "base_uri": "https://localhost:8080/"
        },
        "outputId": "9526fbb9-3d4b-4aad-9216-efa0f143ed57"
      },
      "execution_count": 68,
      "outputs": [
        {
          "output_type": "execute_result",
          "data": {
            "text/plain": [
              "array([0.96428571, 1.        , 1.        , 1.        , 0.96296296,\n",
              "       0.96296296, 1.        , 1.        , 0.96296296, 0.96296296])"
            ]
          },
          "metadata": {},
          "execution_count": 68
        }
      ]
    },
    {
      "cell_type": "markdown",
      "source": [
        "#AKURASI DATA DWT\n",
        "\n"
      ],
      "metadata": {
        "id": "Nk4qsPkh2zzV"
      }
    },
    {
      "cell_type": "code",
      "source": [
        "df_test1 = pd.read_csv('/content/drive/MyDrive/DATABASE/predictfitur/AF5.csv')\n"
      ],
      "metadata": {
        "id": "6qmON_KWLjvf"
      },
      "execution_count": 69,
      "outputs": []
    },
    {
      "cell_type": "code",
      "source": [
        "x = df_test1[['min','max','mean','med','std',]]\n",
        "# x = df_test1[['se']]\n",
        "y = df_test1['label']"
      ],
      "metadata": {
        "id": "puNDg1l9LjmU"
      },
      "execution_count": 70,
      "outputs": []
    },
    {
      "cell_type": "code",
      "source": [
        "y_pred = model.predict(x)"
      ],
      "metadata": {
        "id": "Pj2pxQzJL3oK",
        "colab": {
          "base_uri": "https://localhost:8080/"
        },
        "outputId": "ff62d3cd-7e98-4497-ffdc-33ecca760b60"
      },
      "execution_count": 71,
      "outputs": [
        {
          "output_type": "stream",
          "name": "stderr",
          "text": [
            "/usr/local/lib/python3.7/dist-packages/sklearn/base.py:493: FutureWarning: The feature names should match those that were passed during fit. Starting version 1.2, an error will be raised.\n",
            "Feature names must be in the same order as they were in fit.\n",
            "\n",
            "  warnings.warn(message, FutureWarning)\n"
          ]
        }
      ]
    },
    {
      "cell_type": "code",
      "source": [
        "print(\"Accuracy:\",metrics.accuracy_score(y, y_pred))"
      ],
      "metadata": {
        "id": "Wriv5He2L3mB",
        "colab": {
          "base_uri": "https://localhost:8080/"
        },
        "outputId": "d56fb59c-de9c-40eb-eda9-d91ccdd59e40"
      },
      "execution_count": 72,
      "outputs": [
        {
          "output_type": "stream",
          "name": "stdout",
          "text": [
            "Accuracy: 0.9292929292929293\n"
          ]
        }
      ]
    },
    {
      "cell_type": "code",
      "source": [
        "from sklearn.metrics import classification_report\n",
        "print(classification_report(y, y_pred,))"
      ],
      "metadata": {
        "id": "m_JplM-bL3kS",
        "colab": {
          "base_uri": "https://localhost:8080/"
        },
        "outputId": "d5382176-9a0f-4d87-d339-1d02cbd81238"
      },
      "execution_count": 73,
      "outputs": [
        {
          "output_type": "stream",
          "name": "stdout",
          "text": [
            "              precision    recall  f1-score   support\n",
            "\n",
            "          AF       0.93      1.00      0.96        90\n",
            "           N       1.00      0.22      0.36         9\n",
            "\n",
            "    accuracy                           0.93        99\n",
            "   macro avg       0.96      0.61      0.66        99\n",
            "weighted avg       0.93      0.93      0.91        99\n",
            "\n"
          ]
        }
      ]
    },
    {
      "cell_type": "code",
      "source": [
        "from sklearn.model_selection import cross_val_score\n",
        "\n",
        "score = cross_val_score(model, x, y_pred, cv=10)\n",
        "score"
      ],
      "metadata": {
        "id": "2ljJZ9KFL3hM",
        "colab": {
          "base_uri": "https://localhost:8080/"
        },
        "outputId": "1a69f9ff-082b-4e04-beff-76a721d4477b"
      },
      "execution_count": 74,
      "outputs": [
        {
          "output_type": "stream",
          "name": "stderr",
          "text": [
            "/usr/local/lib/python3.7/dist-packages/sklearn/model_selection/_split.py:680: UserWarning: The least populated class in y has only 2 members, which is less than n_splits=10.\n",
            "  UserWarning,\n"
          ]
        },
        {
          "output_type": "execute_result",
          "data": {
            "text/plain": [
              "array([1.        , 1.        , 1.        , 1.        , 1.        ,\n",
              "       1.        , 1.        , 0.9       , 0.9       , 0.88888889])"
            ]
          },
          "metadata": {},
          "execution_count": 74
        }
      ]
    },
    {
      "cell_type": "markdown",
      "source": [
        "#Akurasi Nilai Entropy"
      ],
      "metadata": {
        "id": "K6yNNS4dfBfF"
      }
    },
    {
      "cell_type": "code",
      "source": [
        "df_test2 = pd.read_csv('/content/drive/MyDrive/DATABASE/predictfitur/PVC1.csv')\n",
        "df_test2.head"
      ],
      "metadata": {
        "id": "DXoNK8U1Ljc8",
        "colab": {
          "base_uri": "https://localhost:8080/"
        },
        "outputId": "2169c487-8883-4240-98e0-5f2a3638ef61"
      },
      "execution_count": 75,
      "outputs": [
        {
          "output_type": "execute_result",
          "data": {
            "text/plain": [
              "<bound method NDFrame.head of          min       max      mean       med       std label\n",
              "0   0.179276  0.934682  0.442673  0.281238  0.306842     N\n",
              "1  -0.534120  2.335418  0.465980 -0.154240  1.166426   PVC\n",
              "2   0.752510  1.940157  1.166505  0.908606  0.482875     N\n",
              "3   0.932270  1.456050  1.114902  1.001796  0.212887     N\n",
              "4   0.654619  1.287968  0.875421  0.738803  0.257411     N\n",
              "..       ...       ...       ...       ...       ...   ...\n",
              "61  0.308206  0.691059  0.441673  0.359116  0.155599     N\n",
              "62 -0.345531  1.675065  0.358728 -0.073993  0.820912   PVC\n",
              "63  0.133811  2.093402  0.816817  0.391362  0.796744   PVC\n",
              "64  0.902128  1.504309  1.112076  0.981387  0.244827     N\n",
              "65  0.718012  1.228091  0.895839  0.785967  0.207294     N\n",
              "\n",
              "[66 rows x 6 columns]>"
            ]
          },
          "metadata": {},
          "execution_count": 75
        }
      ]
    },
    {
      "cell_type": "code",
      "source": [
        "y_pred = model.predict(x)"
      ],
      "metadata": {
        "id": "3GIQXDU5L-5i",
        "colab": {
          "base_uri": "https://localhost:8080/"
        },
        "outputId": "bc6273cd-d7a6-4983-fe8e-bd8593798f32"
      },
      "execution_count": 76,
      "outputs": [
        {
          "output_type": "stream",
          "name": "stderr",
          "text": [
            "/usr/local/lib/python3.7/dist-packages/sklearn/base.py:493: FutureWarning: The feature names should match those that were passed during fit. Starting version 1.2, an error will be raised.\n",
            "Feature names must be in the same order as they were in fit.\n",
            "\n",
            "  warnings.warn(message, FutureWarning)\n"
          ]
        }
      ]
    },
    {
      "cell_type": "code",
      "source": [
        "print(\"Accuracy:\",metrics.accuracy_score(y, y_pred))"
      ],
      "metadata": {
        "id": "VLBJ2ALOL-22",
        "colab": {
          "base_uri": "https://localhost:8080/"
        },
        "outputId": "0cefe01d-1218-4b37-8cbf-5a4e4292e246"
      },
      "execution_count": 77,
      "outputs": [
        {
          "output_type": "stream",
          "name": "stdout",
          "text": [
            "Accuracy: 0.9292929292929293\n"
          ]
        }
      ]
    },
    {
      "cell_type": "code",
      "source": [
        "from sklearn.metrics import classification_report\n",
        "print(classification_report(y, y_pred,))"
      ],
      "metadata": {
        "id": "D6abtEwgL-0f",
        "colab": {
          "base_uri": "https://localhost:8080/"
        },
        "outputId": "1ec0f551-aa3f-45fb-9091-0a7d71f03dc3"
      },
      "execution_count": 78,
      "outputs": [
        {
          "output_type": "stream",
          "name": "stdout",
          "text": [
            "              precision    recall  f1-score   support\n",
            "\n",
            "          AF       0.93      1.00      0.96        90\n",
            "           N       1.00      0.22      0.36         9\n",
            "\n",
            "    accuracy                           0.93        99\n",
            "   macro avg       0.96      0.61      0.66        99\n",
            "weighted avg       0.93      0.93      0.91        99\n",
            "\n"
          ]
        }
      ]
    },
    {
      "cell_type": "code",
      "source": [
        "from sklearn.model_selection import cross_val_score\n",
        "\n",
        "score = cross_val_score(model, x, y_pred, cv=10)\n",
        "score"
      ],
      "metadata": {
        "id": "QHlM6aoWL-yG",
        "colab": {
          "base_uri": "https://localhost:8080/"
        },
        "outputId": "d85d3bdd-fca2-4b86-c209-22cd9e50103a"
      },
      "execution_count": 79,
      "outputs": [
        {
          "output_type": "stream",
          "name": "stderr",
          "text": [
            "/usr/local/lib/python3.7/dist-packages/sklearn/model_selection/_split.py:680: UserWarning: The least populated class in y has only 2 members, which is less than n_splits=10.\n",
            "  UserWarning,\n"
          ]
        },
        {
          "output_type": "execute_result",
          "data": {
            "text/plain": [
              "array([1.        , 1.        , 1.        , 1.        , 1.        ,\n",
              "       1.        , 1.        , 0.9       , 0.9       , 0.88888889])"
            ]
          },
          "metadata": {},
          "execution_count": 79
        }
      ]
    }
  ],
  "metadata": {
    "colab": {
      "collapsed_sections": [
        "2POmSMmKwpXP",
        "Tx3ZrBH9J4mQ",
        "gfPw1FY0mj06",
        "0DxvBfnXxPjD",
        "_ipF-9cmuQDK",
        "NfRWUAq9udzB",
        "zKocO3_Z05b3",
        "CcPgRH4Ox3Wa",
        "mRUm-U3y-F0h",
        "jAv33zwB5YO7"
      ],
      "provenance": []
    },
    "kernelspec": {
      "display_name": "Python 3",
      "language": "python",
      "name": "python3"
    },
    "language_info": {
      "codemirror_mode": {
        "name": "ipython",
        "version": 3
      },
      "file_extension": ".py",
      "mimetype": "text/x-python",
      "name": "python",
      "nbconvert_exporter": "python",
      "pygments_lexer": "ipython3",
      "version": "3.6.5"
    }
  },
  "nbformat": 4,
  "nbformat_minor": 0
}